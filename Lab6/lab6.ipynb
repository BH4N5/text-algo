{
 "cells": [
  {
   "attachments": {},
   "cell_type": "markdown",
   "metadata": {},
   "source": [
    "## Laboratorium 7.\n",
    "#### Bartosz Hanc"
   ]
  },
  {
   "attachments": {},
   "cell_type": "markdown",
   "metadata": {},
   "source": [
    "#### Implementacja struktur"
   ]
  },
  {
   "cell_type": "code",
   "execution_count": 79,
   "metadata": {},
   "outputs": [],
   "source": [
    "from typing import Hashable\n",
    "from dataclasses import dataclass\n",
    "\n",
    "\n",
    "class Tree:\n",
    "    def __repr__(self) -> str:\n",
    "        def rec_print(node, level=0):\n",
    "            line = \"\" if level == 0 else \"|___ \"\n",
    "            ret = \"\\t\" * level + line + node.symb + \"\\n\"\n",
    "\n",
    "            for _, child in node.next.items():\n",
    "                ret += rec_print(child, level + 1)\n",
    "\n",
    "            return ret\n",
    "\n",
    "        return rec_print(self.root)\n",
    "\n",
    "\n",
    "# Trie - w wariancie, w którym kolejne sufiksy dodawane są przez przeszukiwanie głowy od korzenia\n",
    "# drzewa\n",
    "class Node:\n",
    "    def __init__(self, symb):\n",
    "        self.next: dict[Hashable, Node] = {}\n",
    "        self.symb: str = symb\n",
    "\n",
    "\n",
    "class Trie(Tree):\n",
    "    def __init__(self, string):\n",
    "        self.root = Node(\"\")\n",
    "        self.__build_trie(string)\n",
    "\n",
    "    def __build_trie(self, string):\n",
    "        for i in range(len(string)):\n",
    "            node = self.root\n",
    "            for c in string[i:]:\n",
    "                if c in node.next:\n",
    "                    node = node.next[c]\n",
    "                else:\n",
    "                    child = Node(symb=str(c))\n",
    "                    node.next[c] = child\n",
    "                    node = child\n",
    "\n",
    "\n",
    "# Trie - w wariancie, w którym kolejne sufiksy dodawane są poprzez dodanie kolejnej litery tekstu\n",
    "class LinkNode(Node):\n",
    "    def __init__(self, symb, link=None):\n",
    "        super().__init__(symb)\n",
    "        self.link: LinkNode = self if link is None else link\n",
    "\n",
    "\n",
    "class OnlineTrie(Tree):\n",
    "    def __init__(self, string):\n",
    "        self.root = LinkNode(\"\")\n",
    "        self.__build_trie(string)\n",
    "\n",
    "    def __build_trie(self, string):\n",
    "        root = self.root\n",
    "        deepest = LinkNode(symb=string[0], link=root)\n",
    "        root.next[string[0]] = deepest\n",
    "\n",
    "        for c in string[1:]:\n",
    "            curr: LinkNode = deepest\n",
    "            prev: LinkNode = None\n",
    "\n",
    "            while c not in curr.next:\n",
    "                new_node = LinkNode(symb=c)\n",
    "                curr.next[c] = new_node\n",
    "\n",
    "                if prev is not None:\n",
    "                    prev.link = new_node\n",
    "\n",
    "                prev = new_node\n",
    "                curr = curr.link\n",
    "\n",
    "            if curr is root and curr.next[c] == prev:\n",
    "                prev.link = root\n",
    "            else:\n",
    "                prev.link = curr.next[c]\n",
    "\n",
    "            deepest = deepest.next[c]\n",
    "\n",
    "\n",
    "# Drzewo sufiksów - algorytm Ukkonena\n",
    "class CompressedNode:\n",
    "    def __init__(self, l, r, parent=None):\n",
    "        self.l: int = l\n",
    "        self.r: int = r\n",
    "\n",
    "        self.parent: CompressedNode = parent\n",
    "        self.link: CompressedNode = None\n",
    "        self.next: dict[str, CompressedNode] = {}\n",
    "\n",
    "    def switch(self, ch):\n",
    "        if ch in self.next:\n",
    "            return self.next[ch]\n",
    "        return None\n",
    "\n",
    "    def len(self):\n",
    "        return self.r - self.l\n",
    "\n",
    "\n",
    "@dataclass\n",
    "class State:\n",
    "    node: CompressedNode\n",
    "    pos: int\n",
    "\n",
    "\n",
    "class CompressedTrie:\n",
    "    def __init__(self, string):\n",
    "        self.root = CompressedNode(0, 0)\n",
    "        self.string = string\n",
    "        self.__build_trie(string)\n",
    "\n",
    "    def __repr__(self) -> str:\n",
    "        def rec_print(root: CompressedNode, level=0):\n",
    "            line = \"\" if level == 0 else \"|___ \"\n",
    "            ret = \"\\t\" * level + line + self.string[root.l : root.r] + \"\\n\"\n",
    "\n",
    "            for _, child in root.next.items():\n",
    "                ret += rec_print(child, level + 1)\n",
    "\n",
    "            return ret\n",
    "\n",
    "        return rec_print(self.root)\n",
    "\n",
    "    def __build_trie(self, string):\n",
    "        n: int = len(string)\n",
    "        root: CompressedNode = self.root\n",
    "        state: State = State(root, 0)\n",
    "\n",
    "        def traverse(st: State, l: int, r: int) -> State:\n",
    "            while l < r:\n",
    "                if st.pos == st.node.len():\n",
    "                    st = State(st.node.switch(string[l]), 0)\n",
    "                    if st.node == None:\n",
    "                        return st\n",
    "                else:\n",
    "                    if string[st.node.l + st.pos] != string[l]:\n",
    "                        return State(None, -1)\n",
    "                    if r - l < st.node.len() - st.pos:\n",
    "                        return State(st.node, st.pos + r - l)\n",
    "\n",
    "                    l += st.node.len() - st.pos\n",
    "                    st.pos = st.node.len()\n",
    "\n",
    "            return st\n",
    "\n",
    "        def split(st: State) -> CompressedNode:\n",
    "            if st.pos == st.node.len():\n",
    "                return st.node\n",
    "            if st.pos == 0:\n",
    "                return st.node.parent\n",
    "\n",
    "            v = st.node\n",
    "            new_node = CompressedNode(v.l, v.l + st.pos, v.parent)\n",
    "            new_node.next[string[v.l + st.pos]] = v\n",
    "\n",
    "            v.parent.next[string[v.l]] = new_node\n",
    "            v.parent = new_node\n",
    "            v.l += st.pos\n",
    "\n",
    "            return new_node\n",
    "\n",
    "        def suff_link(v: CompressedNode) -> CompressedNode:\n",
    "            if v.link != None:\n",
    "                return v.link\n",
    "\n",
    "            if v.parent == None:\n",
    "                return self.root\n",
    "\n",
    "            u = suff_link(v.parent)\n",
    "            v.link = split(\n",
    "                traverse(\n",
    "                    State(u, u.len()), v.l + (1 if v.parent is self.root else 0), v.r\n",
    "                )\n",
    "            )\n",
    "\n",
    "            return v.link\n",
    "\n",
    "        for pos, ch in enumerate(string):\n",
    "            while True:\n",
    "                new_state: State = traverse(state, pos, pos + 1)\n",
    "                if new_state.node != None:\n",
    "                    state = new_state\n",
    "                    break\n",
    "\n",
    "                mid = split(state)\n",
    "                mid.next[ch] = CompressedNode(pos, n, mid)\n",
    "\n",
    "                state.node = suff_link(mid)\n",
    "                state.pos = state.node.len()\n",
    "                if mid is root:\n",
    "                    break\n"
   ]
  },
  {
   "attachments": {},
   "cell_type": "markdown",
   "metadata": {},
   "source": [
    "#### Wizualizacja struktur"
   ]
  },
  {
   "cell_type": "code",
   "execution_count": 80,
   "metadata": {},
   "outputs": [
    {
     "data": {
      "text/plain": [
       "\n",
       "\t|___ a\n",
       "\t\t|___ b\n",
       "\t\t\t|___ a\n",
       "\t\t\t\t|___ b\n",
       "\t\t\t\t\t|___ c\n",
       "\t\t\t\t\t\t|___ d\n",
       "\t\t\t\t\t\t\t|___ $\n",
       "\t\t\t|___ c\n",
       "\t\t\t\t|___ d\n",
       "\t\t\t\t\t|___ $\n",
       "\t|___ b\n",
       "\t\t|___ a\n",
       "\t\t\t|___ b\n",
       "\t\t\t\t|___ c\n",
       "\t\t\t\t\t|___ d\n",
       "\t\t\t\t\t\t|___ $\n",
       "\t\t|___ c\n",
       "\t\t\t|___ d\n",
       "\t\t\t\t|___ $\n",
       "\t|___ c\n",
       "\t\t|___ d\n",
       "\t\t\t|___ $\n",
       "\t|___ d\n",
       "\t\t|___ $\n",
       "\t|___ $"
      ]
     },
     "execution_count": 80,
     "metadata": {},
     "output_type": "execute_result"
    }
   ],
   "source": [
    "Trie(\"ababcd\" + \"$\")\n"
   ]
  },
  {
   "cell_type": "code",
   "execution_count": 81,
   "metadata": {},
   "outputs": [
    {
     "data": {
      "text/plain": [
       "\n",
       "\t|___ a\n",
       "\t\t|___ b\n",
       "\t\t\t|___ a\n",
       "\t\t\t\t|___ b\n",
       "\t\t\t\t\t|___ c\n",
       "\t\t\t\t\t\t|___ d\n",
       "\t\t\t\t\t\t\t|___ $\n",
       "\t\t\t|___ c\n",
       "\t\t\t\t|___ d\n",
       "\t\t\t\t\t|___ $\n",
       "\t|___ b\n",
       "\t\t|___ a\n",
       "\t\t\t|___ b\n",
       "\t\t\t\t|___ c\n",
       "\t\t\t\t\t|___ d\n",
       "\t\t\t\t\t\t|___ $\n",
       "\t\t|___ c\n",
       "\t\t\t|___ d\n",
       "\t\t\t\t|___ $\n",
       "\t|___ c\n",
       "\t\t|___ d\n",
       "\t\t\t|___ $\n",
       "\t|___ d\n",
       "\t\t|___ $\n",
       "\t|___ $"
      ]
     },
     "execution_count": 81,
     "metadata": {},
     "output_type": "execute_result"
    }
   ],
   "source": [
    "OnlineTrie(\"ababcd\" + \"$\")\n"
   ]
  },
  {
   "cell_type": "code",
   "execution_count": 87,
   "metadata": {},
   "outputs": [
    {
     "data": {
      "text/plain": [
       "\n",
       "\t|___ a\n",
       "\t\t|___ abbabd$\n",
       "\t\t|___ b\n",
       "\t\t\t|___ babd$\n",
       "\t\t\t|___ d$\n",
       "\t|___ b\n",
       "\t\t|___ babd$\n",
       "\t\t|___ abd$\n",
       "\t\t|___ d$\n",
       "\t|___ d$\n",
       "\t|___ $"
      ]
     },
     "execution_count": 87,
     "metadata": {},
     "output_type": "execute_result"
    }
   ],
   "source": [
    "CompressedTrie(\"aabbabd\" + \"$\")\n"
   ]
  },
  {
   "cell_type": "code",
   "execution_count": 88,
   "metadata": {},
   "outputs": [
    {
     "data": {
      "text/plain": [
       "\n",
       "\t|___ ab\n",
       "\t\t|___ abcd$\n",
       "\t\t|___ cd$\n",
       "\t|___ b\n",
       "\t\t|___ abcd$\n",
       "\t\t|___ cd$\n",
       "\t|___ cd$\n",
       "\t|___ d$\n",
       "\t|___ $"
      ]
     },
     "execution_count": 88,
     "metadata": {},
     "output_type": "execute_result"
    }
   ],
   "source": [
    "CompressedTrie(\"ababcd\" + \"$\")"
   ]
  },
  {
   "cell_type": "code",
   "execution_count": 83,
   "metadata": {},
   "outputs": [
    {
     "data": {
      "text/plain": [
       "\n",
       "\t|___ a\n",
       "\t\t|___ b\n",
       "\t\t\t|___ a\n",
       "\t\t\t\t|___ aba\n",
       "\t\t\t\t\t|___ b\n",
       "\t\t\t\t\t\t|___ aabaabaabab$\n",
       "\t\t\t\t\t\t|___ $\n",
       "\t\t\t\t\t|___ aba\n",
       "\t\t\t\t\t\t|___ abab$\n",
       "\t\t\t\t\t\t|___ b$\n",
       "\t\t\t\t|___ b\n",
       "\t\t\t\t\t|___ aabaabaabab$\n",
       "\t\t\t\t\t|___ $\n",
       "\t\t\t|___ $\n",
       "\t\t|___ aba\n",
       "\t\t\t|___ b\n",
       "\t\t\t\t|___ aabaabaabab$\n",
       "\t\t\t\t|___ $\n",
       "\t\t\t|___ aba\n",
       "\t\t\t\t|___ abab$\n",
       "\t\t\t\t|___ b$\n",
       "\t|___ b\n",
       "\t\t|___ a\n",
       "\t\t\t|___ aba\n",
       "\t\t\t\t|___ b\n",
       "\t\t\t\t\t|___ aabaabaabab$\n",
       "\t\t\t\t\t|___ $\n",
       "\t\t\t\t|___ aba\n",
       "\t\t\t\t\t|___ abab$\n",
       "\t\t\t\t\t|___ b$\n",
       "\t\t\t|___ b\n",
       "\t\t\t\t|___ aabaabaabab$\n",
       "\t\t\t\t|___ $\n",
       "\t\t|___ $\n",
       "\t|___ $"
      ]
     },
     "execution_count": 83,
     "metadata": {},
     "output_type": "execute_result"
    }
   ],
   "source": [
    "CompressedTrie(\"abaababaabaabaabab\" + \"$\")\n"
   ]
  },
  {
   "attachments": {},
   "cell_type": "markdown",
   "metadata": {},
   "source": [
    "#### Benchmark"
   ]
  },
  {
   "cell_type": "code",
   "execution_count": 84,
   "metadata": {},
   "outputs": [
    {
     "name": "stdout",
     "output_type": "stream",
     "text": [
      "╭──────────┬──────────┬────────────┬──────────────┬──────────────────╮\n",
      "│ String   │   Length │ Trie       │ OnlineTrie   │ CompressedTrie   │\n",
      "├──────────┼──────────┼────────────┼──────────────┼──────────────────┤\n",
      "│ s1       │        4 │ 1.083e-05s │ 2.387e-05s   │ 1.567e-05s       │\n",
      "├──────────┼──────────┼────────────┼──────────────┼──────────────────┤\n",
      "│ s2       │        7 │ 2.719e-05s │ 1.586e-05s   │ 1.919e-05s       │\n",
      "├──────────┼──────────┼────────────┼──────────────┼──────────────────┤\n",
      "│ s3       │        8 │ 1.313e-05s │ 1.751e-05s   │ 2.345e-05s       │\n",
      "├──────────┼──────────┼────────────┼──────────────┼──────────────────┤\n",
      "│ s4       │       19 │ 4.784e-05s │ 8.912e-05s   │ 6.872e-05s       │\n",
      "├──────────┼──────────┼────────────┼──────────────┼──────────────────┤\n",
      "│ s5       │      101 │ 2.288e-03s │ 3.243e-03s   │ 2.252e-04s       │\n",
      "├──────────┼──────────┼────────────┼──────────────┼──────────────────┤\n",
      "│ s6       │     2539 │ 1.559e+00s │ 1.875e+00s   │ 8.976e-03s       │\n",
      "╰──────────┴──────────┴────────────┴──────────────┴──────────────────╯\n"
     ]
    }
   ],
   "source": [
    "import timeit\n",
    "\n",
    "from random import choices\n",
    "from string import ascii_letters\n",
    "from tabulate import tabulate\n",
    "\n",
    "\n",
    "END = \"$\"\n",
    "s1 = \"bbb\" + END\n",
    "s2 = \"ababcd\" + END\n",
    "s3 = \"aabbabd\" + END\n",
    "s4 = \"abaababaabaabaabab\" + END\n",
    "s5 = \"\".join(choices(ascii_letters, k=100)) + END\n",
    "s6 = open(\"1997_714_head.txt\", \"r\").read() + END\n",
    "\n",
    "data = []\n",
    "\n",
    "for i, s in enumerate([s1, s2, s3, s4, s5, s6]):\n",
    "    data.append([\"s\" + str(i + 1), len(s)])\n",
    "    for tree in (Trie, OnlineTrie, CompressedTrie):\n",
    "        t = timeit.timeit(lambda: tree(s), number=10) / 10\n",
    "        data[i].append(\"{:.3e}\".format(t) + \"s\")\n",
    "\n",
    "print(\n",
    "    tabulate(\n",
    "        data,\n",
    "        headers=[\"String\", \"Length\", \"Trie\", \"OnlineTrie\", \"CompressedTrie\"],\n",
    "        tablefmt=\"rounded_grid\",\n",
    "    )\n",
    ")\n"
   ]
  },
  {
   "cell_type": "code",
   "execution_count": 85,
   "metadata": {},
   "outputs": [
    {
     "data": {
      "text/plain": [
       "<matplotlib.legend.Legend at 0x28d17b873d0>"
      ]
     },
     "execution_count": 85,
     "metadata": {},
     "output_type": "execute_result"
    },
    {
     "data": {
      "image/png": "[encoded data removed]",
      "text/plain": [
       "<Figure size 640x480 with 1 Axes>"
      ]
     },
     "metadata": {},
     "output_type": "display_data"
    }
   ],
   "source": [
    "import matplotlib.pyplot as plt\n",
    "\n",
    "dataT = [\n",
    "    [float(data[j][i][:-1]) for j in range(len(data))] for i in range(2, len(data[0]))\n",
    "]\n",
    "dataT.append([data[i][1] for i in range(len(data))])\n",
    "dataT\n",
    "\n",
    "fig, ax = plt.subplots()\n",
    "\n",
    "ax.plot(dataT[-1], dataT[0], label=\"Trie\", marker=\"o\")\n",
    "ax.plot(dataT[-1], dataT[1], label=\"OnlineTrie\", marker=\"o\")\n",
    "ax.plot(dataT[-1], dataT[2], label=\"CompressedTrie\", marker=\"o\")\n",
    "\n",
    "ax.set_xscale(\"log\")\n",
    "ax.set_yscale(\"log\")\n",
    "\n",
    "ax.set_xlabel(\"String length\")\n",
    "ax.set_ylabel(\"Time [s]\")\n",
    "ax.legend(loc=\"best\")\n"
   ]
  },
  {
   "cell_type": "code",
   "execution_count": null,
   "metadata": {},
   "outputs": [],
   "source": []
  }
 ],
 "metadata": {
  "kernelspec": {
   "display_name": "Python 3 (ipykernel)",
   "language": "python",
   "name": "python3"
  },
  "language_info": {
   "codemirror_mode": {
    "name": "ipython",
    "version": 3
   },
   "file_extension": ".py",
   "mimetype": "text/x-python",
   "name": "python",
   "nbconvert_exporter": "python",
   "pygments_lexer": "ipython3",
   "version": "3.11.4"
  }
 },
 "nbformat": 4,
 "nbformat_minor": 2
}
