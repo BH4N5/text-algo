{
 "cells": [
  {
   "attachments": {},
   "cell_type": "markdown",
   "metadata": {},
   "source": [
    "## Laboratorium 5.\n",
    "#### Bartosz Hanc"
   ]
  },
  {
   "attachments": {},
   "cell_type": "markdown",
   "metadata": {},
   "source": [
    "1. Zaimplementuj algorytm wyszukiwania wzorca 2-wymiarowego. "
   ]
  },
  {
   "cell_type": "code",
   "execution_count": 2,
   "metadata": {},
   "outputs": [],
   "source": [
    "import numpy as np\n",
    "from typing import Sequence, Hashable"
   ]
  },
  {
   "cell_type": "code",
   "execution_count": 3,
   "metadata": {},
   "outputs": [],
   "source": [
    "class Node:\n",
    "    def __init__(self, symb) -> None:\n",
    "        self.next: dict[Hashable, Node] = {}\n",
    "        self.fail: Node = None\n",
    "        self.symb: str = symb\n",
    "        self.term: int = -1\n",
    "\n",
    "\n",
    "class Trie:\n",
    "    def __init__(self, patterns) -> None:\n",
    "        self.root = Node(symb=\"\")\n",
    "        self.__build_trie(patterns=patterns)\n",
    "\n",
    "    def __build_trie(self, patterns: Sequence[Sequence[Hashable]]):\n",
    "        for i, pattern in enumerate(patterns):\n",
    "            node = self.root\n",
    "            for c in pattern:\n",
    "                if c in node.next:\n",
    "                    node = node.next[c]\n",
    "                else:\n",
    "                    child = Node(symb=str(node.symb) + str(c))\n",
    "                    node.next[c] = child\n",
    "                    node = child\n",
    "\n",
    "            node.term = i\n",
    "\n",
    "    def __repr__(self):\n",
    "        def rec_print(node, level=0):\n",
    "            line = \"\" if level == 0 else \"┕━━━━ \"\n",
    "            ret = \"\\t\" * level + line + node.symb + \"\\n\"\n",
    "\n",
    "            for _, child in node.next.items():\n",
    "                ret += rec_print(child, level + 1)\n",
    "\n",
    "            return ret\n",
    "\n",
    "        return rec_print(self.root)\n",
    "\n",
    "    def build_automaton(self, alphabet: Sequence[Hashable]):\n",
    "        from collections import deque\n",
    "\n",
    "        queue = deque()\n",
    "        root = self.root\n",
    "\n",
    "        for c in alphabet:\n",
    "            if c in root.next:\n",
    "                node = root.next[c]\n",
    "                node.fail = root\n",
    "                queue.append(node)\n",
    "            else:\n",
    "                root.next[c] = root\n",
    "\n",
    "        while len(queue) > 0:\n",
    "            node: Node = queue.popleft()\n",
    "\n",
    "            for c in alphabet:\n",
    "                if c in node.next:\n",
    "                    next: Node = node.next[c]\n",
    "                    queue.append(next)\n",
    "                    x = node.fail\n",
    "\n",
    "                    while c not in x.next:\n",
    "                        x = x.fail\n",
    "\n",
    "                    next.fail = x.next[c]\n",
    "\n",
    "\n",
    "def Aho_Corasick(trie: Trie, text):\n",
    "    node: Node = trie.root\n",
    "    ans = []\n",
    "\n",
    "    for i, c in enumerate(text):\n",
    "        while c not in node.next:\n",
    "            node = node.fail\n",
    "\n",
    "        node = node.next[c]\n",
    "        if node.term > -1:\n",
    "            ans.append((i, node.term))\n",
    "\n",
    "    return ans\n"
   ]
  },
  {
   "cell_type": "code",
   "execution_count": 4,
   "metadata": {},
   "outputs": [
    {
     "name": "stdout",
     "output_type": "stream",
     "text": [
      "\n",
      "\t┕━━━━ a\n",
      "\t\t┕━━━━ ab\n",
      "\t┕━━━━ b\n",
      "\t\t┕━━━━ bc\n",
      "\t\t\t┕━━━━ bca\n",
      "\t\t\t┕━━━━ bcb\n",
      "\t\t\t\t┕━━━━ bcba\n",
      "\t\t┕━━━━ ba\n",
      "\t┕━━━━ c\n",
      "\t\t┕━━━━ ca\n",
      "\t\t\t┕━━━━ caa\n",
      "\t\t\t┕━━━━ cab\n",
      "\n"
     ]
    }
   ],
   "source": [
    "print(Trie([\"ab\", \"bc\", \"bca\", \"bcb\", \"caa\", \"cab\", \"ba\", \"bcba\"]))\n"
   ]
  },
  {
   "cell_type": "code",
   "execution_count": 13,
   "metadata": {},
   "outputs": [
    {
     "name": "stdout",
     "output_type": "stream",
     "text": [
      "16 dolor\n",
      "48 in\n",
      "80 in\n",
      "107 dolor\n",
      "108 dolore\n",
      "137 in\n",
      "252 dolor\n",
      "255 in\n",
      "272 in\n",
      "293 esse\n",
      "306 dolor\n",
      "307 dolore\n",
      "347 in\n",
      "389 in\n"
     ]
    }
   ],
   "source": [
    "text = \"Lorem ipsum dolor sit amet, consectetur adipiscing elit, sed do eiusmod tempor incididunt ut labore et dolore magna aliqua. Ut enim ad minim veniam, quis nostrud exercitation ullamco laboris nisi ut aliquip ex ea commodo consequat. Duis aute irure dolor in reprehenderit in voluptate velit esse cillum dolore eu fugiat nulla pariatur. Excepteur sint occaecat cupidatat non proident, sunt in culpa qui officia deserunt mollit anim id est laborum.\"\n",
    "alphabet = set(text)\n",
    "\n",
    "patterns = [\"dolor\", \"esse\", \"dolore\", \"in\"]\n",
    "trie = Trie(patterns)\n",
    "trie.build_automaton(alphabet=alphabet)\n",
    "\n",
    "for i, pat_idx in Aho_Corasick(trie=trie, text=text):\n",
    "    print(i, patterns[pat_idx])\n"
   ]
  },
  {
   "cell_type": "code",
   "execution_count": 26,
   "metadata": {},
   "outputs": [],
   "source": [
    "def match_2d(pattern, text):\n",
    "    transpose = lambda A: [[A[i][j] for i in range(len(A))] for j in range(len(A[0]))]\n",
    "\n",
    "    print(transpose(pattern))\n",
    "\n",
    "    trie = Trie(patterns=patterns_1d)\n",
    "    trie.build_automaton(alphabet=set(text.flatten()))\n",
    "\n",
    "    N = [[-1 for _ in range(len(text[0]))] for _ in range(len(text))]\n",
    "\n",
    "    for col, s in enumerate(transpose(text)):\n",
    "        for row, pat_idx in Aho_Corasick(trie=trie, text=s):\n",
    "            N[row][col] = pat_idx\n",
    "\n",
    "    return N\n"
   ]
  },
  {
   "cell_type": "code",
   "execution_count": 27,
   "metadata": {},
   "outputs": [
    {
     "name": "stdout",
     "output_type": "stream",
     "text": [
      "[['a', 'b', 'a'], ['a', 'b', 'a'], ['a', 'a', 'b']]\n"
     ]
    },
    {
     "ename": "NameError",
     "evalue": "name 'patterns_1d' is not defined",
     "output_type": "error",
     "traceback": [
      "\u001b[1;31m---------------------------------------------------------------------------\u001b[0m",
      "\u001b[1;31mNameError\u001b[0m                                 Traceback (most recent call last)",
      "Cell \u001b[1;32mIn[27], line 16\u001b[0m\n\u001b[0;32m      1\u001b[0m pattern \u001b[39m=\u001b[39m \u001b[39mlist\u001b[39m(\u001b[39mmap\u001b[39m(\u001b[39mlambda\u001b[39;00m x: x\u001b[39m.\u001b[39msplit(\u001b[39m\"\u001b[39m\u001b[39m \u001b[39m\u001b[39m\"\u001b[39m), [\u001b[39m\"\u001b[39m\u001b[39ma a a\u001b[39m\u001b[39m\"\u001b[39m, \u001b[39m\"\u001b[39m\u001b[39mb b a\u001b[39m\u001b[39m\"\u001b[39m, \u001b[39m\"\u001b[39m\u001b[39ma a b\u001b[39m\u001b[39m\"\u001b[39m]))\n\u001b[0;32m      2\u001b[0m text \u001b[39m=\u001b[39m \u001b[39mlist\u001b[39m(\n\u001b[0;32m      3\u001b[0m     \u001b[39mmap\u001b[39m(\n\u001b[0;32m      4\u001b[0m         \u001b[39mlambda\u001b[39;00m x: x\u001b[39m.\u001b[39msplit(\u001b[39m\"\u001b[39m\u001b[39m \u001b[39m\u001b[39m\"\u001b[39m),\n\u001b[1;32m   (...)\u001b[0m\n\u001b[0;32m     13\u001b[0m     )\n\u001b[0;32m     14\u001b[0m )\n\u001b[1;32m---> 16\u001b[0m match_2d(pattern, text)\n",
      "Cell \u001b[1;32mIn[26], line 6\u001b[0m, in \u001b[0;36mmatch_2d\u001b[1;34m(pattern, text)\u001b[0m\n\u001b[0;32m      2\u001b[0m transpose \u001b[39m=\u001b[39m \u001b[39mlambda\u001b[39;00m A: [[A[i][j] \u001b[39mfor\u001b[39;00m i \u001b[39min\u001b[39;00m \u001b[39mrange\u001b[39m(\u001b[39mlen\u001b[39m(A))] \u001b[39mfor\u001b[39;00m j \u001b[39min\u001b[39;00m \u001b[39mrange\u001b[39m(\u001b[39mlen\u001b[39m(A[\u001b[39m0\u001b[39m]))]\n\u001b[0;32m      4\u001b[0m \u001b[39mprint\u001b[39m(transpose(pattern))\n\u001b[1;32m----> 6\u001b[0m trie \u001b[39m=\u001b[39m Trie(patterns\u001b[39m=\u001b[39mpatterns_1d)\n\u001b[0;32m      7\u001b[0m trie\u001b[39m.\u001b[39mbuild_automaton(alphabet\u001b[39m=\u001b[39m\u001b[39mset\u001b[39m(text\u001b[39m.\u001b[39mflatten()))\n\u001b[0;32m      9\u001b[0m N \u001b[39m=\u001b[39m [[\u001b[39m-\u001b[39m\u001b[39m1\u001b[39m \u001b[39mfor\u001b[39;00m _ \u001b[39min\u001b[39;00m \u001b[39mrange\u001b[39m(\u001b[39mlen\u001b[39m(text[\u001b[39m0\u001b[39m]))] \u001b[39mfor\u001b[39;00m _ \u001b[39min\u001b[39;00m \u001b[39mrange\u001b[39m(\u001b[39mlen\u001b[39m(text))]\n",
      "\u001b[1;31mNameError\u001b[0m: name 'patterns_1d' is not defined"
     ]
    }
   ],
   "source": [
    "pattern = list(map(lambda x: x.split(\" \"), [\"a a a\", \"b b a\", \"a a b\"]))\n",
    "text = list(\n",
    "    map(\n",
    "        lambda x: x.split(\" \"),\n",
    "        [\n",
    "            \"a b a b a b b\",\n",
    "            \"a a a a b b b\",\n",
    "            \"b b b a a a b\",\n",
    "            \"a a a b b a a\",\n",
    "            \"b b a a a b b\",\n",
    "            \"a a b a a a a\",\n",
    "        ],\n",
    "    )\n",
    ")\n",
    "\n",
    "match_2d(pattern, text)\n"
   ]
  },
  {
   "cell_type": "code",
   "execution_count": 21,
   "metadata": {},
   "outputs": [
    {
     "data": {
      "text/plain": [
       "[[1, 2, 3], [1, 2, 3]]"
      ]
     },
     "execution_count": 21,
     "metadata": {},
     "output_type": "execute_result"
    }
   ],
   "source": [
    "transpose = lambda arr: [[arr[i][j] for i in range(len(arr))] for j in range(len(arr[0]))]\n",
    "transpose([[1,1],[2,2],[3,3]])"
   ]
  },
  {
   "attachments": {},
   "cell_type": "markdown",
   "metadata": {},
   "source": [
    "2. Znajdź w załączonym pliku \"haystack.txt\" wszystkie sytuacje, gdy taka sama litera występuje na\n",
    "   tej samej pozycji w dwóch kolejnych linijkach. Zwróć uwagę, na nierówną długość linii w pliku."
   ]
  },
  {
   "cell_type": "code",
   "execution_count": 16,
   "metadata": {},
   "outputs": [
    {
     "data": {
      "text/plain": [
       "array([['O', 'n', 'e', ..., ' ', ' ', ' '],\n",
       "       ['o', 'f', ' ', ..., ' ', ' ', ' '],\n",
       "       ['b', 'e', ' ', ..., ' ', ' ', ' '],\n",
       "       ...,\n",
       "       ['e', 'f', 'f', ..., ' ', ' ', ' '],\n",
       "       ['(', 'P', 'a', ..., ' ', ' ', ' '],\n",
       "       ['a', 'n', 'd', ..., ' ', ' ', ' ']], dtype='<U1')"
      ]
     },
     "execution_count": 16,
     "metadata": {},
     "output_type": "execute_result"
    }
   ],
   "source": [
    "text = open(\"haystack.txt\", \"r\").read().splitlines()\n",
    "MAX_LEN = len(max(text, key=lambda x: len(x)))\n",
    "text = list(\n",
    "    map(lambda x: list(x), list(map(lambda x: x + \" \" * (MAX_LEN - len(x)), text)))\n",
    ")\n",
    "\n",
    "np.array(text)\n"
   ]
  },
  {
   "attachments": {},
   "cell_type": "markdown",
   "metadata": {},
   "source": [
    "3. Znajdź wszystkie wystąpienia \"th\" oraz \"t h\" w dwóch kolejnych liniach na tej samej pozycji. "
   ]
  },
  {
   "cell_type": "code",
   "execution_count": null,
   "metadata": {},
   "outputs": [],
   "source": []
  },
  {
   "attachments": {},
   "cell_type": "markdown",
   "metadata": {},
   "source": [
    "4. Wybierz przynajmniej 4 litery (małe). Znajdź wszystkie wystąpienia tej litery w załączonym pliku\n",
    "   \"haystack.png\""
   ]
  },
  {
   "cell_type": "code",
   "execution_count": null,
   "metadata": {},
   "outputs": [],
   "source": []
  },
  {
   "attachments": {},
   "cell_type": "markdown",
   "metadata": {},
   "source": [
    "5. Znajdź wszystkie wystąpienia słowa \"p a t t e r n\" w haystack.png. "
   ]
  },
  {
   "cell_type": "code",
   "execution_count": null,
   "metadata": {},
   "outputs": [],
   "source": []
  },
  {
   "attachments": {},
   "cell_type": "markdown",
   "metadata": {},
   "source": [
    "6. Porównaj czas budowania automatu i czas wyszukiwania dla różnych rozmiarów wzorca "
   ]
  },
  {
   "cell_type": "code",
   "execution_count": null,
   "metadata": {},
   "outputs": [],
   "source": []
  },
  {
   "attachments": {},
   "cell_type": "markdown",
   "metadata": {},
   "source": [
    "7. Podziel plik na 2, 4 i 8 fragmentów (w poziomie) i porównaj czas przeszukiwania"
   ]
  },
  {
   "cell_type": "code",
   "execution_count": null,
   "metadata": {},
   "outputs": [],
   "source": []
  }
 ],
 "metadata": {
  "kernelspec": {
   "display_name": "Python 3",
   "language": "python",
   "name": "python3"
  },
  "language_info": {
   "codemirror_mode": {
    "name": "ipython",
    "version": 3
   },
   "file_extension": ".py",
   "mimetype": "text/x-python",
   "name": "python",
   "nbconvert_exporter": "python",
   "pygments_lexer": "ipython3",
   "version": "3.11.3"
  },
  "orig_nbformat": 4
 },
 "nbformat": 4,
 "nbformat_minor": 2
}
