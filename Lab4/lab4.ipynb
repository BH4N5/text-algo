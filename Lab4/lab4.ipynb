{
 "cells": [
  {
   "attachments": {},
   "cell_type": "markdown",
   "metadata": {},
   "source": [
    "## Laboratorium 4\n",
    "#### Bartosz Hanc"
   ]
  },
  {
   "cell_type": "code",
   "execution_count": 32,
   "metadata": {},
   "outputs": [],
   "source": [
    "\"\"\"Requirements:\n",
    "numpy==1.23.5\n",
    "scikit-learn==1.2.1\n",
    "scipy==1.10.0\n",
    "kmedoids==0.4.3\n",
    "\"\"\"\n",
    "\n",
    "import numpy as np\n"
   ]
  },
  {
   "attachments": {},
   "cell_type": "markdown",
   "metadata": {},
   "source": [
    "1. Zaimplementuj przynajmniej 3 \"metryki\" spośród wymienionych: cosinusowa, LCS,\n",
    "   DICE, euklidesowa, Levenshteina.\n",
    "\n",
    "Ponieważ do klasteryzacji użyłem algorytmu PAM k-medoids\n",
    "(https://en.wikipedia.org/wiki/K-medoids) dostępnego w bibliotece `kmedoids`,\n",
    "którego implementacja zawiera krok przypisania punktu do klastra wyznaczonego\n",
    "przez *najbliższy* medoid, więc wykorzystana funkcja podobieństwa wyrazów\n",
    "powinna mieć własności standardowej metryki tj. $d(x,y) = 0\\iff x=y$, $\\forall\n",
    "x,y: d(x,y) \\geq 0$ i odpowiadać intuicyjnemu postrzeganiu, iż jeśli $d(x,y) <\n",
    "d(x,z)$ to $y$ jest bliżej $x$, czyli wyraz $y$ jest bardziej podobny do $x$ niż\n",
    "wyraz $z$. Spośród wymienionych funkcji jedynie odległość euklidesowa i\n",
    "Levenshteina spełniają te kryteria. Z tego względu jako trzecią metrykę wybrałem\n",
    "metrykę taksówkową spoza listy."
   ]
  },
  {
   "cell_type": "code",
   "execution_count": 2,
   "metadata": {},
   "outputs": [],
   "source": [
    "from sklearn.metrics import pairwise_distances as d\n",
    "\n",
    "# Use cases:\n",
    "# d(X, Y, metric=\"euclidean\")\n",
    "# d(X, Y, metric=\"manhattan\")\n",
    "# d(X, Y, metric=\"hamming\") # This one is very slow because it does not support\n",
    "# sparse matrices (and our matrix has ~1e8 elements)\n"
   ]
  },
  {
   "attachments": {},
   "cell_type": "markdown",
   "metadata": {},
   "source": [
    "2. Zaimplementuj przynajmniej 1 sposoby oceny jakości klasteryzacji (np. indeks\n",
    "   Daviesa-Bouldina)."
   ]
  },
  {
   "cell_type": "code",
   "execution_count": 24,
   "metadata": {},
   "outputs": [],
   "source": [
    "from sklearn.metrics import davies_bouldin_score as DB_idx\n"
   ]
  },
  {
   "attachments": {},
   "cell_type": "markdown",
   "metadata": {},
   "source": [
    "3. Stwórz stoplistę najczęściej występujących słów i zastosuj ją jako\n",
    "   pre-processing dla nazw. Algorytmy klasteryzacji powinny działać na dwóch\n",
    "   wariantach: z pre-processingiem i bez pre-processingu."
   ]
  },
  {
   "cell_type": "code",
   "execution_count": 4,
   "metadata": {},
   "outputs": [],
   "source": [
    "docs = np.array(open(\"lines.txt\", \"r\").readlines())"
   ]
  },
  {
   "cell_type": "code",
   "execution_count": null,
   "metadata": {},
   "outputs": [],
   "source": [
    "\n"
   ]
  },
  {
   "attachments": {},
   "cell_type": "markdown",
   "metadata": {},
   "source": [
    "4. Wykonaj klasteryzację zawartości załączonego pliku (lines.txt) przy użyciu\n",
    "   metryk zaimplementowanych w pkt. 1. Każda linia to adres pocztowy firmy,\n",
    "   różne sposoby zapisu tego samego adresu powinny się znaleźć w jednym\n",
    "   klastrze."
   ]
  },
  {
   "cell_type": "code",
   "execution_count": 5,
   "metadata": {},
   "outputs": [],
   "source": [
    "from sklearn.feature_extraction.text import CountVectorizer\n",
    "import kmedoids\n",
    "\n",
    "freq_vecs = CountVectorizer().fit_transform(docs)\n",
    "\n",
    "k = 1000\n",
    "c_euclid = kmedoids.fasterpam(d(freq_vecs, freq_vecs, metric=\"euclidean\"), k)\n",
    "c_manhat = kmedoids.fasterpam(d(freq_vecs, freq_vecs, metric=\"manhattan\"), k)\n",
    "c_hammin = kmedoids.fasterpam(\n",
    "    d(freq_vecs.toarray(), freq_vecs.toarray(), metric=\"hamming\", n_jobs=-1), k\n",
    ")\n"
   ]
  },
  {
   "cell_type": "code",
   "execution_count": 68,
   "metadata": {},
   "outputs": [],
   "source": [
    "def show_clusters(labels, docs, n=40, save_to_file=None):\n",
    "    \"\"\"Prints text clustering\n",
    "\n",
    "    Args:\n",
    "        labels (list[Any]): list of cluster labels\n",
    "\n",
    "        docs (list[str]): list of texts\n",
    "\n",
    "        n (int, optional): Prints last n lines. Defaults to 40.\n",
    "\n",
    "        save_to_file (Any, optional): If type==str saves output to file 'save_to_file'. Defaults to None.\n",
    "    \"\"\"\n",
    "\n",
    "    cluster_dict = {label: [] for label in labels}\n",
    "    for label, text in zip(labels, docs):\n",
    "        cluster_dict[label].append(text)\n",
    "\n",
    "    s = \"==\" * 42 + \"\\n\"\n",
    "    for label, texts in cluster_dict.items():\n",
    "        s += \"#\" * 42 + \"\\n\"\n",
    "        for text in texts:\n",
    "            s += text\n",
    "        s += \"\\n\"\n",
    "        \n",
    "    s += \"==\" * 42 + \"\\n\"\n",
    "\n",
    "    if type(save_to_file) == str:\n",
    "        open(save_to_file, \"w\").write(s)\n",
    "\n",
    "    print(\"\\n\".join(s.split(sep=\"\\n\")[-n:]))\n"
   ]
  },
  {
   "cell_type": "code",
   "execution_count": 69,
   "metadata": {},
   "outputs": [
    {
     "name": "stdout",
     "output_type": "stream",
     "text": [
      "##########################################\n",
      "ZHEJIANG JONWAYMACHINERY&ELECTRICMANUFACTURE CO LTD.DATANG INDUSTRIALZONE JIANTIAO TOWN SANMEN COUNTYTAIZHOU CITY\n",
      "ZHEJIANG JONWAYMACHINERY&ELECTRICMANUFACTURE CO LTD.DATANG INDUSTRIALZONE JIANTIAO TOWN SANMEN COUNTYTAIZHOU CITY TEL:86-576-83431988\n",
      "\n",
      "##########################################\n",
      "ZHEJIANG JUNMA ALUMINIUM INDUSTRYCO.,LTD.  Add:No 8 Junma road, Huandong  street industrial park ZhujiZhejiang, China 311800\n",
      "\n",
      "##########################################\n",
      "ZHEJIANG NEWWAY IMPORT AND EXPORT CO.,LTD. NO 555 HAI YAN TANG ROAD JIAXING ZHEJIANG CHINA\n",
      "ZHEJIANG TONGDE IMPORT AND EXPORTCO.,LTD. ROOM 1207-1208,JINMAO BUILDING NO. 699 CHOUZHOU NORTH ROAD ,ZHEJIANG CHINA\n",
      "ZHEJIANG TONGDE IMPORT AND EXPORT CO.,LTD. ROOM 1207-1208,JINMAO BUILDING NO.699 CHOUZHOU NORTH ROAD,ZHEJIANG CHINA\n",
      "ZHEJIANG YINMAO IMPORT&EXPORT CO.,LTD NO.777 HONGXING ROAD, JIAXING,ZHEJIANG,CHINA\n",
      "\n",
      "##########################################\n",
      "ZHEJIANG PROVINCIAL LIGHT&TEXTILEINDUSTRY GROUP IMP.&EXP.CO.,LTD.15/F,BLDG 8,UNITED PLAZA,NO.58 QIANJIANG ROAD,HANGZHOU,P.R.CHINA\n",
      "ZHEJIANG PROVINCIAL LIGHT&TEXTILEINDUSTRY GROUP IMP.&EXP.CO.,LTD.15/F,BLDG 8,UNITED PLAZA,NO.58 QIANJIANG ROAD,HANGZHOU,P.R.CHINA\n",
      "\n",
      "##########################################\n",
      "ZHEJIANG SHENG PUJIANG WUSHI LOCKSCO.,LTD, YUEXI HUANGZHAI TOWN, PUJIANG CITY,ZHEJIANG PROVINCE, CHINA\n",
      "\n",
      "##########################################\n",
      "ZHEJIANG TRIMAX INTERNATIONAL GROUP900 HUZHI ROAD,HUANZHU INDUSTRY GARDEN,HUZHOU. ZHEJIANG,CHINA 313000\n",
      "\n",
      "##########################################\n",
      "ZHONGSHAN CITY GUANGXIN TRADING CO.,LTD GOVERNMENT YARD OF HENGLAN TOWN, ZHONGSHAN CITY, GUANGDONG, CHINA\n",
      "ZHONGSHAN CITY GUZHEN HAOLANG LIGHTING FACTORY THE FORTH FLOOR,BUILDING C,SHENGQIU INDUSTRIAL DISTRICT,DONGXING EAST RD,CAOSAN,GUZHEN TOWN,ZHONGSHAN CITY,GUANGDONG,CHINA\n",
      "ZHONGSHAN CITY KING LONG LIGHTING FACTORY VDR MING LIU ROAD SHALANG WEST DISTRICT ZHONGSHAN 44 CHINA\n",
      "ZHONGSHAN YANGMING IMPORT&EXPORTCOMPANY  LIMITED.AD:FUHENG NORTH ROAD, YONGXING  INDUSTRIAL ZONE, HENGLAN TOWN,ZHONGSHAN CITY, GUANGDONGPROVINCE,CHINA 528478 TEL:86-760-87\n",
      "ZHONGSHAN YIBAO ELECTRIC  APPLIANCECO., LTD. TONG AN ROAD WEST DONGFENG TOWN, ZHONGSHAN CITY\n",
      "\n",
      "##########################################\n",
      "ZHONGSHAN FOODSTUFFS AND AQUATIC  IMP.AND EXP.GROUP CO.,LTD OF GUANGDONG 113 HUAYUAN ST.,ZHONGSHAN 3 ROAD,ZHONGSHAN, GUANGDONG,CHINA TEL:+86-760-88314404    FAX:+86-760-883291\n",
      "ZHONGSHAN NATIVE PRODUCE IMPORT&EXPORT CO LTD  NO. 8 OF 2ND BLDG HENGXIN STREET EAST DISTRICT  ZHONGSHAN CITY GUANGDONG CHINA\n",
      "\n",
      "##########################################\n",
      "ZPHU PIOTR WUTKOWSKI Ul. SzklanychDomow 1, 89-530 Sliwice\n",
      "ZPHU PIOTR WUTKOWSKI UL. SZKLANYCHDOMOW 1, 89-530 SLIWICE POLAND\n",
      "\n",
      "====================================================================================\n",
      "\n"
     ]
    }
   ],
   "source": [
    "show_clusters(c_euclid.labels, docs)\n"
   ]
  },
  {
   "cell_type": "code",
   "execution_count": 70,
   "metadata": {},
   "outputs": [
    {
     "name": "stdout",
     "output_type": "stream",
     "text": [
      "ZEN CONTINENTAL (TIANJIN) ENTERPRISES CO.,LTD.SHENZHEN BRANCH RM.D,12F, TIMES PLAZA, NO.1 TAIZI ROAD,SHEKOU, SHENZHEN,GUANGDONG, CHINA 0755-2681-8599 0755-2689-1817 ZIP:518067\n",
      "ZEN CONTINENTAL (TIANJIN) ENTERPRISES CO.,LTD.SHENZHEN BRANCH RM.D,12F, TIMES PLAZA, NO.1 TAIZI ROAD, SHEKOU,SHENZHEN,GUANGDONG, CHINA 0755-2681-8599 0755-2689-1817 ZIP:518067\n",
      "\n",
      "##########################################\n",
      "ZHANGJIAGANG LOOP IMP.AND EXP CORP15E FUGANG BLDG.,RENMIN ROAD ZHANGJIAGANG CITY,JIANGSU PROVINCE,CN\n",
      "ZHANGJIAGANG LOOP IMP.AND EXP CORP15E FUGANG BLDG., RENMIN ROAD ZHANGJIAGANG CITY,JIANGSU PROVINCE,CN\n",
      "\n",
      "##########################################\n",
      "ZHEJIANG AOTAI MACHINE MANUFACTURING CO.,LTD THE 10TH ROAD ,BINHAI THIRD AVNUE,BINHAI INDUSTRY AREA,WENZHOU,325025,CHINA CONTACT:PIER WANG TEL:+86-577-86830918 FAX:+86 577-868\n",
      "\n",
      "##########################################\n",
      "ZHEJIANG ARTS&CRAFTS IMP.&EXP. CO.,LTD. NO.12  ZHONGSHAN BEI ROAD,HANGZHOU, CHINA\n",
      "ZHEJIANG HANGCHA IMP.&EXP.CO.,LTDNO.398 SHI QIAO ROAD,HANGZHOU 310022,CHINA\n",
      "ZHEJIANG HANGCHA IMP.&EXP. CO., LTD NO.398 SHI QIAO ROAD,HANGZHOU 310022,CHINA\n",
      "\n",
      "##########################################\n",
      "ZHEJIANG BADA HARDWARE CO.,LTD ADD:NO.20,QILI INDUSTRIAL ZONE, JINYUNCITY,ZHEJIANG PROVINCE,CHINA TEL:0086-578-3124789 FAX:0086-578-3124178+\n",
      "ZHEJIANG BADA HARDWARE CO.,LTD NO.20,QILI INDUSTRIAL ZONE,JINYUN CITY,ZHEJIANG,CHINA 3214000 TEL:0086-578-3124789 FAX:0086-578-3124178\n",
      "\n",
      "##########################################\n",
      "ZHEJIANG CONCORD SHEET STEEL. SCIENCE AND TECHNOLOGY CO.,LTD. HONG SHAN ROAD,XIAO SHAN DISTRICT, HANG ZHOU CITY,ZHEJIANG,CHINA TEL:571-86-571-82699888 FAX:86-571-82622802 O/B:\n",
      "\n",
      "##########################################\n",
      "ZHEJIANG PROVINCIAL LIGHT&TEXTILEINDUSTRY GROUP IMP.&EXP.CO.,LTD.15/F,BLDG 8,UNITED PLAZA,NO.58 QIANJIANG ROAD,HANGZHOU,P.R.CHINA\n",
      "ZHEJIANG PROVINCIAL LIGHT&TEXTILEINDUSTRY GROUP IMP.&EXP.CO.,LTD.15/F,BLDG 8,UNITED PLAZA,NO.58 QIANJIANG ROAD,HANGZHOU,P.R.CHINA\n",
      "\n",
      "##########################################\n",
      "ZHEJIANG TONGDE IMPORT AND EXPORTCO.,LTD. ROOM 1207-1208,JINMAO BUILDING NO. 699 CHOUZHOU NORTH ROAD ,ZHEJIANG CHINA\n",
      "ZHEJIANG TONGDE IMPORT AND EXPORT CO.,LTD. ROOM 1207-1208,JINMAO BUILDING NO.699 CHOUZHOU NORTH ROAD,ZHEJIANG CHINA\n",
      "\n",
      "##########################################\n",
      "ZHONGSHAN FOODSTUFFS&AQUATIC IMP.&EXP. GROUP CO., LTD ADD:113 HUAYUAN STREET, ZHONGSHAN 3RD ROAD, ZHONGSHAN, GUANGDONG, CHINA TEL:86-760-88312361 FAX:86-760-88329517\n",
      "ZHONGSHAN FOODSTUFFS AND AQUATIC  IMP.AND EXP.GROUP CO.,LTD OF GUANGDONG 113 HUAYUAN ST.,ZHONGSHAN 3 ROAD,ZHONGSHAN, GUANGDONG,CHINA TEL:+86-760-88314404    FAX:+86-760-883291\n",
      "\n",
      "##########################################\n",
      "ZHUJI RUHAI KNITTING CO., LTD ADD:NO.8,RUHAI ROAD,XINZHOU,SANHE VILLAGE, ANHUA TOWN,ZHUJI CITY,ZHEJIANG,CHINA TEL:86-57587548857-\n",
      "ZHUJI RUHAI KNITTING CO., LTD ADD:NO.8,RUHAI ROAD,XINZHOU,SANHE  VILLAGE, ANHUA TOWN,ZHUJI  CITY,ZHEJIANG, CHINA TEL:86-57587548857\n",
      "\n",
      "====================================================================================\n",
      "\n"
     ]
    }
   ],
   "source": [
    "show_clusters(c_manhat.labels, docs)\n"
   ]
  },
  {
   "cell_type": "code",
   "execution_count": 71,
   "metadata": {},
   "outputs": [
    {
     "name": "stdout",
     "output_type": "stream",
     "text": [
      "##########################################\n",
      "ZHEJIANG LAMDA BRAKE PADS CO.,LTD.NO.76 LUOSHAN ROAD,XIALIN INDUSTRIAL DISTRICT, RUIAN CITY,ZHEJIANG PROVINCE,CHINA\n",
      "\n",
      "##########################################\n",
      "ZHEJIANG LIWANG INDUSTRIAL AND  TRADING CO.,LTD O/B OF KONNER LIMITEDNO.226, RENMIN ROAD,NINGHAI,NINGBO,CHINA\n",
      "\n",
      "##########################################\n",
      "ZHEJIANG MAYANG INDUSTRIES CO.,LTDGUMASHAN INDUSTRY WANGZHAI TOWN WUYI CITY ZHEJIANG PROVINCE CHINA\n",
      "\n",
      "##########################################\n",
      "ZHEJIANG PROVINCIAL LIGHT&TEXTILEINDUSTRY GROUP IMP.&EXP.CO.,LTD.15/F,BLDG 8,UNITED PLAZA,NO.58 QIANJIANG ROAD,HANGZHOU,P.R.CHINA\n",
      "ZHEJIANG PROVINCIAL LIGHT&TEXTILEINDUSTRY GROUP IMP.&EXP.CO.,LTD.15/F,BLDG 8,UNITED PLAZA,NO.58 QIANJIANG ROAD,HANGZHOU,P.R.CHINA\n",
      "\n",
      "##########################################\n",
      "ZHEJIANG SHENG PUJIANG WUSHI LOCKSCO.,LTD, YUEXI HUANGZHAI TOWN, PUJIANG CITY,ZHEJIANG PROVINCE, CHINA\n",
      "\n",
      "##########################################\n",
      "ZHEJIANG TONGDE IMPORT AND EXPORTCO.,LTD. ROOM 1207-1208,JINMAO BUILDING NO. 699 CHOUZHOU NORTH ROAD ,ZHEJIANG CHINA\n",
      "ZHEJIANG TONGDE IMPORT AND EXPORT CO.,LTD. ROOM 1207-1208,JINMAO BUILDING NO.699 CHOUZHOU NORTH ROAD,ZHEJIANG CHINA\n",
      "\n",
      "##########################################\n",
      "ZHEJIANG ZHONGJIAN TECHNOLOGY CO.,LTD NO.MINGYUAN SOUTH AVE,ECONOMIC DEVELOPMENT ZONE,YONGKANG ZHEJIANG,CHINA\n",
      "\n",
      "##########################################\n",
      "ZHENHUA LOGISTICS GROUP CO LTD68 RENMING ROAD19/F GOLD NAME BUILDING116001 DALIAN CHINA\n",
      "\n",
      "##########################################\n",
      "ZHONGSHAN CITY GUANGXIN TRADING CO.,LTD GOVERNMENT YARD OF HENGLAN TOWN, ZHONGSHAN CITY, GUANGDONG, CHINA\n",
      "\n",
      "##########################################\n",
      "ZHONGSHAN NATIVE PRODUCE IMPORT&EXPORT CO LTD  NO. 8 OF 2ND BLDG HENGXIN STREET EAST DISTRICT  ZHONGSHAN CITY GUANGDONG CHINA\n",
      "\n",
      "##########################################\n",
      "ZHONGSHAN YANGMING IMPORT&EXPORTCOMPANY  LIMITED.AD:FUHENG NORTH ROAD, YONGXING  INDUSTRIAL ZONE, HENGLAN TOWN,ZHONGSHAN CITY, GUANGDONGPROVINCE,CHINA 528478 TEL:86-760-87\n",
      "\n",
      "##########################################\n",
      "ZHONGSHAN YIBAO ELECTRIC  APPLIANCECO., LTD. TONG AN ROAD WEST DONGFENG TOWN, ZHONGSHAN CITY\n",
      "\n",
      "====================================================================================\n",
      "\n"
     ]
    }
   ],
   "source": [
    "show_clusters(c_hammin.labels, docs)\n"
   ]
  },
  {
   "attachments": {},
   "cell_type": "markdown",
   "metadata": {},
   "source": [
    "5. Porównaj jakość wyników sposobami zaimplementowanymi w pkt. 2."
   ]
  },
  {
   "cell_type": "code",
   "execution_count": 33,
   "metadata": {},
   "outputs": [],
   "source": [
    "lines = open(\"clusters.txt\", \"r\").read().splitlines()\n",
    "lines = list(filter(lambda text: text != \"\", lines))\n",
    "\n",
    "model_docs, model_labels, label = [], [], 0\n",
    "for line in lines:\n",
    "    if line != \"#\" * 10:\n",
    "        model_docs.append(line)\n",
    "        model_labels.append(label)\n",
    "    else:\n",
    "        label += 1\n",
    "\n",
    "X = CountVectorizer().fit_transform(model_docs)"
   ]
  },
  {
   "cell_type": "code",
   "execution_count": 34,
   "metadata": {},
   "outputs": [
    {
     "name": "stdout",
     "output_type": "stream",
     "text": [
      "Davies--Bouldin indexes\n",
      "Model clusterization                 1.112534158155742\n",
      "k-medoids clusterization (euclidean) 1.5231276524933224\n",
      "k-medoids clusterization (manhattan) 1.3434092302381833\n",
      "k-medoids clusterization (hamming)   1.4500554434939745\n"
     ]
    }
   ],
   "source": [
    "print(\"Davies--Bouldin indexes\")\n",
    "print(\n",
    "    \"Model clusterization                \", \n",
    "    DB_idx(X.toarray(), labels=model_labels)\n",
    ")\n",
    "print(\n",
    "    \"k-medoids clusterization (euclidean)\",\n",
    "    DB_idx(freq_vecs.toarray(), c_euclid.labels),\n",
    ")\n",
    "print(\n",
    "    \"k-medoids clusterization (manhattan)\",\n",
    "    DB_idx(freq_vecs.toarray(), c_manhat.labels),\n",
    ")\n",
    "print(\n",
    "    \"k-medoids clusterization (hamming)  \",\n",
    "    DB_idx(freq_vecs.toarray(), c_hammin.labels),\n",
    ")\n"
   ]
  }
 ],
 "metadata": {
  "kernelspec": {
   "display_name": "Python 3",
   "language": "python",
   "name": "python3"
  },
  "language_info": {
   "codemirror_mode": {
    "name": "ipython",
    "version": 3
   },
   "file_extension": ".py",
   "mimetype": "text/x-python",
   "name": "python",
   "nbconvert_exporter": "python",
   "pygments_lexer": "ipython3",
   "version": "3.11.3"
  },
  "orig_nbformat": 4
 },
 "nbformat": 4,
 "nbformat_minor": 2
}
