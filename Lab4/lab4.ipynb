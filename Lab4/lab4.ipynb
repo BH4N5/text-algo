{
 "cells": [
  {
   "attachments": {},
   "cell_type": "markdown",
   "metadata": {},
   "source": [
    "## Laboratorium 4\n",
    "#### Bartosz Hanc"
   ]
  },
  {
   "cell_type": "code",
   "execution_count": 2,
   "metadata": {},
   "outputs": [],
   "source": [
    "\"\"\"Requirements:\n",
    "numpy==1.23.5\n",
    "scikit-learn==1.2.1\n",
    "scipy==1.10.0\n",
    "kmedoids==0.4.3\n",
    "\"\"\"\n",
    "\n",
    "import numpy as np\n"
   ]
  },
  {
   "attachments": {},
   "cell_type": "markdown",
   "metadata": {},
   "source": [
    "1. Zaimplementuj przynajmniej 3 \"metryki\" spośród wymienionych: cosinusowa, LCS,\n",
    "   DICE, euklidesowa, Levenshteina.\n",
    "\n",
    "Ponieważ do klasteryzacji użyłem algorytmu PAM k-medoids\n",
    "(https://en.wikipedia.org/wiki/K-medoids) dostępnego w bibliotece `kmedoids`,\n",
    "którego implementacja zawiera krok przypisania punktu do klastra wyznaczonego\n",
    "przez *najbliższy* medoid, więc wykorzystana funkcja podobieństwa wyrazów\n",
    "powinna mieć własności standardowej metryki tj. $d(x,y) = 0\\iff x=y$, $\\forall\n",
    "x,y: d(x,y) \\geq 0$ i odpowiadać intuicyjnemu postrzeganiu, iż jeśli $d(x,y) <\n",
    "d(x,z)$ to $y$ jest bliżej $x$, czyli wyraz $y$ jest bardziej podobny do $x$ niż\n",
    "wyraz $z$. Spośród wymienionych funkcji jedynie odległość euklidesowa i\n",
    "Levenshteina spełniają te kryteria. Z tego względu jako trzecią metrykę wybrałem\n",
    "metrykę taksówkową spoza listy."
   ]
  },
  {
   "cell_type": "code",
   "execution_count": 3,
   "metadata": {},
   "outputs": [],
   "source": [
    "from sklearn.metrics import pairwise_distances as d\n",
    "\n",
    "# Use cases:\n",
    "# d(X, Y, metric=\"euclidean\")\n",
    "# d(X, Y, metric=\"manhattan\")\n",
    "# d(X, Y, metric=\"hamming\") # This one is very slow because it does not support\n",
    "# sparse matrices (and our matrix has ~1e8 elements)\n"
   ]
  },
  {
   "attachments": {},
   "cell_type": "markdown",
   "metadata": {},
   "source": [
    "2. Zaimplementuj przynajmniej 1 sposoby oceny jakości klasteryzacji (np. indeks\n",
    "   Daviesa-Bouldina)."
   ]
  },
  {
   "cell_type": "code",
   "execution_count": 4,
   "metadata": {},
   "outputs": [],
   "source": [
    "from sklearn.metrics import davies_bouldin_score as DB_idx\n"
   ]
  },
  {
   "attachments": {},
   "cell_type": "markdown",
   "metadata": {},
   "source": [
    "3. Stwórz stoplistę najczęściej występujących słów i zastosuj ją jako\n",
    "   pre-processing dla nazw. Algorytmy klasteryzacji powinny działać na dwóch\n",
    "   wariantach: z pre-processingiem i bez pre-processingu."
   ]
  },
  {
   "cell_type": "code",
   "execution_count": 5,
   "metadata": {},
   "outputs": [],
   "source": [
    "docs = np.array(open(\"lines.txt\", \"r\").readlines())"
   ]
  },
  {
   "cell_type": "code",
   "execution_count": 14,
   "metadata": {},
   "outputs": [],
   "source": [
    "from sklearn.feature_extraction.text import CountVectorizer\n",
    "\n",
    "cv = CountVectorizer()\n",
    "fv = cv.fit_transform(docs)\n",
    "\n",
    "stop_words = []\n",
    "threshold = 400\n",
    "\n",
    "for freq, word in zip(np.sum(fv.toarray(), axis=0), cv.get_feature_names_out()):\n",
    "    if freq > threshold:\n",
    "        stop_words.append(word)\n"
   ]
  },
  {
   "attachments": {},
   "cell_type": "markdown",
   "metadata": {},
   "source": [
    "4. Wykonaj klasteryzację zawartości załączonego pliku (lines.txt) przy użyciu\n",
    "   metryk zaimplementowanych w pkt. 1. Każda linia to adres pocztowy firmy,\n",
    "   różne sposoby zapisu tego samego adresu powinny się znaleźć w jednym\n",
    "   klastrze."
   ]
  },
  {
   "cell_type": "code",
   "execution_count": 15,
   "metadata": {},
   "outputs": [],
   "source": [
    "import kmedoids\n",
    "\n",
    "freq_vecs = CountVectorizer().fit_transform(docs)\n",
    "freq_vecs_prep = CountVectorizer(stop_words=stop_words).fit_transform(docs)\n",
    "\n",
    "k = 1000\n",
    "\n",
    "c_euclid = kmedoids.fasterpam(d(freq_vecs, freq_vecs, metric=\"euclidean\"), k)\n",
    "c_manhat = kmedoids.fasterpam(d(freq_vecs, freq_vecs, metric=\"manhattan\"), k)\n",
    "c_hammin = kmedoids.fasterpam(\n",
    "    d(freq_vecs.toarray(), freq_vecs.toarray(), metric=\"hamming\", n_jobs=-1), k\n",
    ")\n",
    "\n",
    "c_euclid_prep = kmedoids.fasterpam(\n",
    "    d(freq_vecs_prep, freq_vecs_prep, metric=\"euclidean\"), k\n",
    ")\n",
    "c_manhat_prep = kmedoids.fasterpam(\n",
    "    d(freq_vecs_prep, freq_vecs_prep, metric=\"manhattan\"), k\n",
    ")\n",
    "c_hammin_prep = kmedoids.fasterpam(\n",
    "    d(freq_vecs_prep.toarray(), freq_vecs_prep.toarray(), metric=\"hamming\", n_jobs=-1),\n",
    "    k,\n",
    ")\n"
   ]
  },
  {
   "cell_type": "code",
   "execution_count": 16,
   "metadata": {},
   "outputs": [],
   "source": [
    "def show_clusters(labels, docs, n=40, save_to_file=None):\n",
    "    \"\"\"Prints text clustering\n",
    "\n",
    "    Args:\n",
    "        labels (list[Any]): list of cluster labels\n",
    "\n",
    "        docs (list[str]): list of texts\n",
    "\n",
    "        n (int, optional): Prints last n lines. Defaults to 40.\n",
    "\n",
    "        save_to_file (Any, optional): If type==str saves output to file 'save_to_file'. Defaults to None.\n",
    "    \"\"\"\n",
    "\n",
    "    cluster_dict = {label: [] for label in labels}\n",
    "    for label, text in zip(labels, docs):\n",
    "        cluster_dict[label].append(text)\n",
    "\n",
    "    s = \"==\" * 42 + \"\\n\"\n",
    "    for label, texts in cluster_dict.items():\n",
    "        s += \"#\" * 42 + \"\\n\"\n",
    "        for text in texts:\n",
    "            s += text\n",
    "        s += \"\\n\"\n",
    "        \n",
    "    s += \"==\" * 42 + \"\\n\"\n",
    "\n",
    "    if type(save_to_file) == str:\n",
    "        open(save_to_file, \"w\").write(s)\n",
    "\n",
    "    print(\"\\n\".join(s.split(sep=\"\\n\")[-n:]))\n"
   ]
  },
  {
   "cell_type": "code",
   "execution_count": 17,
   "metadata": {},
   "outputs": [
    {
     "name": "stdout",
     "output_type": "stream",
     "text": [
      "ZHANGJIAGANG KAIDI PACKING CO.,LTD.GANGKOU INDUSTRIAL AREA OF FENGHUANG TOWN ZHANGJIAGANG CITY JIANGSU CHINA\n",
      "\n",
      "##########################################\n",
      "ZHANGJIAGANG TOOL-SUPER MANUFACTURECO.,LTD. DAXIN INDUSTRIAL ZONE , ZHANGJIAGAN CITY,JIANGSU PROVINCE,CHINA. PH +86-512-58938210 FAX:+86-512-589\n",
      "\n",
      "##########################################\n",
      "ZHEJIANG BADA HARDWARE CO.,LTD ADD:NO.20,QILI INDUSTRIAL ZONE, JINYUNCITY,ZHEJIANG PROVINCE,CHINA TEL:0086-578-3124789 FAX:0086-578-3124178+\n",
      "ZHEJIANG BADA HARDWARE CO.,LTD NO.20,QILI INDUSTRIAL ZONE,JINYUN CITY,ZHEJIANG,CHINA 3214000 TEL:0086-578-3124789 FAX:0086-578-3124178\n",
      "\n",
      "##########################################\n",
      "ZHEJIANG DINGSHENG INTERNATIONAL  FORWARDER CO.,LTD NO.598  JINSHAN ROAD, CUSTOMS  BUILDING   SECOND FLOOR,YONGKANG,ZHEJIANG\n",
      "\n",
      "##########################################\n",
      "ZHEJIANG JONWAYMACHINERY&ELECTRICMANUFACTURE CO LTD.DATANG INDUSTRIALZONE JIANTIAO TOWN SANMEN COUNTYTAIZHOU CITY\n",
      "ZHEJIANG JONWAYMACHINERY&ELECTRICMANUFACTURE CO LTD.DATANG INDUSTRIALZONE JIANTIAO TOWN SANMEN COUNTYTAIZHOU CITY TEL:86-576-83431988\n",
      "\n",
      "##########################################\n",
      "ZHEJIANG MAYANG INDUSTRIES CO.,LTDGUMASHAN INDUSTRY WANGZHAI TOWN WUYI CITY ZHEJIANG PROVINCE CHINA\n",
      "\n",
      "##########################################\n",
      "ZHEJIANG NINGSHUAI INDUSTRY CO.,LTDNO.3-5,EAST YINCHUAN ROAD , SCIENCE AND TECHNOLOGY HARDWARE INDUSTRYPARK YONGKANG ,ZHEJIANG ,CHINA +\n",
      "\n",
      "##########################################\n",
      "ZHEJIANG SHENG PUJIANG WUSHI LOCKSCO.,LTD, YUEXI HUANGZHAI TOWN, PUJIANG CITY,ZHEJIANG PROVINCE, CHINA\n",
      "\n",
      "##########################################\n",
      "ZHEJIANG ZITIC IMPORT AND EXPORT CO.LTD. 8/F ZITIC BUILDING 515-521 YAN'AN ROAD HANGZHOU CHINA\n",
      "\n",
      "##########################################\n",
      "ZHONGSHAN CITY GUZHEN HAOLANG LIGHTING FACTORY THE FORTH FLOOR,BUILDING C,SHENGQIU INDUSTRIAL DISTRICT,DONGXING EAST RD,CAOSAN,GUZHEN TOWN,ZHONGSHAN CITY,GUANGDONG,CHINA\n",
      "\n",
      "##########################################\n",
      "ZHUJI RUHAI KNITTING CO., LTD ADD:NO.8,RUHAI ROAD,XINZHOU,SANHE VILLAGE, ANHUA TOWN,ZHUJI CITY,ZHEJIANG,CHINA TEL:86-57587548857-\n",
      "ZHUJI RUHAI KNITTING CO., LTD ADD:NO.8,RUHAI ROAD,XINZHOU,SANHE  VILLAGE, ANHUA TOWN,ZHUJI  CITY,ZHEJIANG, CHINA TEL:86-57587548857\n",
      "\n",
      "##########################################\n",
      "ZING SP Z O.O U1. KOCMYRZOWSKA 13A31-750 KRAKOW VAT 945 18 15789 jaromir.witas@zing.com.pl\n",
      "\n",
      "====================================================================================\n",
      "\n"
     ]
    }
   ],
   "source": [
    "show_clusters(c_euclid.labels, docs)\n"
   ]
  },
  {
   "cell_type": "code",
   "execution_count": 18,
   "metadata": {},
   "outputs": [
    {
     "name": "stdout",
     "output_type": "stream",
     "text": [
      "ZEN CONTINENTAL (TIANJIN) ENTERPRISES CO.,LTD.SHENZHEN BRANCH RM.D,12F, TIMES PLAZA, NO.1 TAIZI ROAD,SHEKOU,SHENZHEN,GUANGDONG, CHINA 0755-2681-8599 0755-2689-1817 ZIP:518067\n",
      "ZEN CONTINENTAL (TIANJIN) ENTERPRISES CO.,LTD.SHENZHEN BRANCH RM.D,12F, TIMES PLAZA, NO.1 TAIZI ROAD,SHEKOU,SHENZHEN,GUANGDONG, CHINA 0755-2681-8599 0755-2689-1817  ZIP:518067\n",
      "ZEN CONTINENTAL (TIANJIN) ENTERPRISES CO.,LTD.SHENZHEN BRANCH RM.D,12F, TIMES PLAZA, NO.1 TAIZI ROAD,SHEKOU, SHENZHEN,GUANGDONG, CHINA 0755-2681-8599 0755-2689-1817 ZIP:518067\n",
      "ZEN CONTINENTAL (TIANJIN) ENTERPRISES CO.,LTD.SHENZHEN BRANCH RM.D,12F, TIMES PLAZA, NO.1 TAIZI ROAD, SHEKOU,SHENZHEN,GUANGDONG, CHINA 0755-2681-8599 0755-2689-1817 ZIP:518067\n",
      "\n",
      "##########################################\n",
      "ZHANGJIAGANG LOOP IMP.AND EXP CORP15E FUGANG BLDG.,RENMIN ROAD ZHANGJIAGANG CITY,JIANGSU PROVINCE,CN\n",
      "ZHANGJIAGANG LOOP IMP.AND EXP CORP15E FUGANG BLDG., RENMIN ROAD ZHANGJIAGANG CITY,JIANGSU PROVINCE,CN\n",
      "\n",
      "##########################################\n",
      "ZHEJIANG AOTAI MACHINE MANUFACTURING CO.,LTD THE 10TH ROAD ,BINHAI THIRD AVNUE,BINHAI INDUSTRY AREA,WENZHOU,325025,CHINA CONTACT:PIER WANG TEL:+86-577-86830918 FAX:+86 577-868\n",
      "\n",
      "##########################################\n",
      "ZHEJIANG BADA HARDWARE CO.,LTD ADD:NO.20,QILI INDUSTRIAL ZONE, JINYUNCITY,ZHEJIANG PROVINCE,CHINA TEL:0086-578-3124789 FAX:0086-578-3124178+\n",
      "ZHEJIANG BADA HARDWARE CO.,LTD NO.20,QILI INDUSTRIAL ZONE,JINYUN CITY,ZHEJIANG,CHINA 3214000 TEL:0086-578-3124789 FAX:0086-578-3124178\n",
      "\n",
      "##########################################\n",
      "ZHEJIANG CONCORD SHEET STEEL. SCIENCE AND TECHNOLOGY CO.,LTD. HONG SHAN ROAD,XIAO SHAN DISTRICT, HANG ZHOU CITY,ZHEJIANG,CHINA TEL:571-86-571-82699888 FAX:86-571-82622802 O/B:\n",
      "\n",
      "##########################################\n",
      "ZHEJIANG PROVINCIAL LIGHT&TEXTILEINDUSTRY GROUP IMP.&EXP.CO.,LTD.15/F,BLDG 8,UNITED PLAZA,NO.58 QIANJIANG ROAD,HANGZHOU,P.R.CHINA\n",
      "ZHEJIANG PROVINCIAL LIGHT&TEXTILEINDUSTRY GROUP IMP.&EXP.CO.,LTD.15/F,BLDG 8,UNITED PLAZA,NO.58 QIANJIANG ROAD,HANGZHOU,P.R.CHINA\n",
      "\n",
      "##########################################\n",
      "ZHEJIANG TONGDE IMPORT AND EXPORTCO.,LTD. ROOM 1207-1208,JINMAO BUILDING NO. 699 CHOUZHOU NORTH ROAD ,ZHEJIANG CHINA\n",
      "ZHEJIANG TONGDE IMPORT AND EXPORT CO.,LTD. ROOM 1207-1208,JINMAO BUILDING NO.699 CHOUZHOU NORTH ROAD,ZHEJIANG CHINA\n",
      "\n",
      "##########################################\n",
      "ZHONGSHAN CITY GUZHEN HAOLANG LIGHTING FACTORY THE FORTH FLOOR,BUILDING C,SHENGQIU INDUSTRIAL DISTRICT,DONGXING EAST RD,CAOSAN,GUZHEN TOWN,ZHONGSHAN CITY,GUANGDONG,CHINA\n",
      "\n",
      "##########################################\n",
      "ZHONGSHAN FOODSTUFFS&AQUATIC IMP.&EXP. GROUP CO., LTD ADD:113 HUAYUAN STREET, ZHONGSHAN 3RD ROAD, ZHONGSHAN, GUANGDONG, CHINA TEL:86-760-88312361 FAX:86-760-88329517\n",
      "ZHONGSHAN FOODSTUFFS AND AQUATIC  IMP.AND EXP.GROUP CO.,LTD OF GUANGDONG 113 HUAYUAN ST.,ZHONGSHAN 3 ROAD,ZHONGSHAN, GUANGDONG,CHINA TEL:+86-760-88314404    FAX:+86-760-883291\n",
      "\n",
      "##########################################\n",
      "ZHUJI RUHAI KNITTING CO., LTD ADD:NO.8,RUHAI ROAD,XINZHOU,SANHE VILLAGE, ANHUA TOWN,ZHUJI CITY,ZHEJIANG,CHINA TEL:86-57587548857-\n",
      "ZHUJI RUHAI KNITTING CO., LTD ADD:NO.8,RUHAI ROAD,XINZHOU,SANHE  VILLAGE, ANHUA TOWN,ZHUJI  CITY,ZHEJIANG, CHINA TEL:86-57587548857\n",
      "\n",
      "====================================================================================\n",
      "\n"
     ]
    }
   ],
   "source": [
    "show_clusters(c_manhat.labels, docs)\n"
   ]
  },
  {
   "cell_type": "code",
   "execution_count": 19,
   "metadata": {},
   "outputs": [
    {
     "name": "stdout",
     "output_type": "stream",
     "text": [
      "ZHANGZHOU HUAYUAN TRADING CO.,LTD.ADD:3#-404,ZHONG XING AI XIAN GARDEN,SOUTH YUAN GUANG ROAD, ZHANGZHOUFUJIAN CHINA\n",
      "\n",
      "##########################################\n",
      "ZHEJIANG BADA HARDWARE CO.,LTD ADD:NO.20,QILI INDUSTRIAL ZONE, JINYUNCITY,ZHEJIANG PROVINCE,CHINA TEL:0086-578-3124789 FAX:0086-578-3124178+\n",
      "\n",
      "##########################################\n",
      "ZHEJIANG BADA HARDWARE CO.,LTD NO.20,QILI INDUSTRIAL ZONE,JINYUN CITY,ZHEJIANG,CHINA 3214000 TEL:0086-578-3124789 FAX:0086-578-3124178\n",
      "\n",
      "##########################################\n",
      "ZHEJIANG CHAIRMAN FURNITURE CO.,LTDYANGGUANG INDUSTRIAL DEVELOPMENTZONE,ANJI COUNTY,ZHEJIANG,CHINA\n",
      "ZHEJIANG CHAIRMAN FURNITURE  CO.,LTD YANGGUANG INDUSTRIAL  DEVELOPMENTZONE,ANJI COUNTY,  ZHEJIANG,CHINA\n",
      "\n",
      "##########################################\n",
      "ZHEJIANG CONCORD SHEET STEEL. SCIENCE AND TECHNOLOGY CO.,LTD. HONG SHAN ROAD,XIAO SHAN DISTRICT, HANG ZHOU CITY,ZHEJIANG,CHINA TEL:571-86-571-82699888 FAX:86-571-82622802 O/B:\n",
      "\n",
      "##########################################\n",
      "ZHEJIANG DINGSHENG INTERNATIONAL  FORWARDER CO.,LTD NO.598  JINSHAN ROAD, CUSTOMS  BUILDING   SECOND FLOOR,YONGKANG,ZHEJIANG\n",
      "\n",
      "##########################################\n",
      "ZHEJIANG JUNMA ALUMINIUM INDUSTRYCO.,LTD.  Add:No 8 Junma road, Huandong  street industrial park ZhujiZhejiang, China 311800\n",
      "\n",
      "##########################################\n",
      "ZHEJIANG NEWWAY IMPORT AND EXPORT CO.,LTD. NO 555 HAI YAN TANG ROAD JIAXING ZHEJIANG CHINA\n",
      "ZHEJIANG TONGDE IMPORT AND EXPORT CO.,LTD. ROOM 1207-1208,JINMAO BUILDING NO.699 CHOUZHOU NORTH ROAD,ZHEJIANG CHINA\n",
      "ZHEJIANG YINMAO IMPORT&EXPORT CO.,LTD NO.777 HONGXING ROAD, JIAXING,ZHEJIANG,CHINA\n",
      "\n",
      "##########################################\n",
      "ZHEJIANG NINGSHUAI INDUSTRY CO.,LTDNO.3-5,EAST YINCHUAN ROAD , SCIENCE AND TECHNOLOGY HARDWARE INDUSTRYPARK YONGKANG ,ZHEJIANG ,CHINA +\n",
      "\n",
      "##########################################\n",
      "ZHEJIANG SEECIN HOUSEWARES CO.,LTD.XINXIN ROAD,PAIXI INDUSTRIAL PARK,FANGYAN TOWN,YONGKANG CITY,ZHEJIANGCHINA\n",
      "\n",
      "##########################################\n",
      "ZHEJIANG SHENG PUJIANG WUSHI LOCKSCO.,LTD, YUEXI HUANGZHAI TOWN, PUJIANG CITY,ZHEJIANG PROVINCE, CHINA\n",
      "\n",
      "##########################################\n",
      "ZHONGSHAN YANGMING IMPORT&EXPORTCOMPANY  LIMITED.AD:FUHENG NORTH ROAD, YONGXING  INDUSTRIAL ZONE, HENGLAN TOWN,ZHONGSHAN CITY, GUANGDONGPROVINCE,CHINA 528478 TEL:86-760-87\n",
      "\n",
      "====================================================================================\n",
      "\n"
     ]
    }
   ],
   "source": [
    "show_clusters(c_hammin.labels, docs)\n"
   ]
  },
  {
   "cell_type": "code",
   "execution_count": 20,
   "metadata": {},
   "outputs": [
    {
     "name": "stdout",
     "output_type": "stream",
     "text": [
      "ZEN CONTINENTAL CO INC (SZH OFFICE)TAIZI RD SHEKOU 27D HAIJING QUARE518000 SHENZHEN CHINA SHENZHEN 44 CN\n",
      "\n",
      "##########################################\n",
      "ZHEJIANG BADA HARDWARE CO.,LTD ADD:NO.20,QILI INDUSTRIAL ZONE, JINYUNCITY,ZHEJIANG PROVINCE,CHINA TEL:0086-578-3124789 FAX:0086-578-3124178+\n",
      "ZHEJIANG BADA HARDWARE CO.,LTD NO.20,QILI INDUSTRIAL ZONE,JINYUN CITY,ZHEJIANG,CHINA 3214000 TEL:0086-578-3124789 FAX:0086-578-3124178\n",
      "ZHEJIANG FLYHIGH METAL PRODUCTS CO., LTD JINYUN INDUSTRIAL ZONE,JINYUNCITY, ZHEJIANG,P.R.CHINA\n",
      "ZHEJIANG GUANGYING MACHINERY CO., LTD. 321403,NO.12, XINZHENG ROAD ,JINYUN INDUSTRIAL ZONE, ZHEJIANG, CHINA\n",
      "ZHEJIANG RONGRONG INDUSTRIAL CO.,LTD HUANGLONG INDUSTRIAL ZONE,WUYI,ZHEJIANG,CHINA\n",
      "ZHEJIANG WUYI GUANXIN MACHINERY CO.,LTD JIN YAN SHAN INDUSTRIAL ZONE QUANXI TOWN,WUYI COUNTY,ZHEJIANG PROVINCE,CHINA\n",
      "ZHEJIANG ZHUJI HORIZON CLOTHING INDUSTRIAL CO., LTD NO 20, CHANGPING ROAD, CHENGXI INDUSTRIAL ZONE,ZHUJICITY, ZHEJIANG PROVINCE,CHINA\n",
      "\n",
      "##########################################\n",
      "ZHEJIANG COBO TECHNOLOGY DEVELOPMENT CO.,LTD. TANGPU INDUSTRIAL PARK ANJI COUNTY HUZHOU CITY ZHEJIANG CHINA 313300\n",
      "\n",
      "##########################################\n",
      "ZHEJIANG FIRSD GROUP CO., LTD. 218TI YU CHANG ROAD, HANGZHOU, CHINA\n",
      "ZHEJIANG ORIENT GROUP LIGHT INDUSTRIAL PRODUCTS I/E CO.,LTD 199 QINGCHUN ROAD, HANGZHOU,P.R.CHINA 310007\n",
      "ZHEJIANG ORIENT GROUP LIGHT  INDUSTRIAL PRODUCTS I/E CO.,LTD 199 QINGCHUN  ROAD,HANGZHOU,P.R.CHINA 310007\n",
      "ZHEJIANG PROVINCIAL LIGHT&TEXTILEINDUSTRY GROUP IMP.&EXP.CO.,LTD.15/F,BLDG 8,UNITED PLAZA,NO.58 QIANJIANG ROAD,HANGZHOU,P.R.CHINA\n",
      "ZHEJIANG PROVINCIAL LIGHT&TEXTILEINDUSTRY GROUP IMP.&EXP.CO.,LTD.15/F,BLDG 8,UNITED PLAZA,NO.58 QIANJIANG ROAD,HANGZHOU,P.R.CHINA\n",
      "\n",
      "##########################################\n",
      "ZHEJIANG GRAND INTERNATIONAL CO.,LIMITED 7-601,CAIHONG NEW VILLAGE,YINZHOU DISTRICT,NINGBO,CHINA 315192\n",
      "\n",
      "##########################################\n",
      "ZHEJIANG HANGCHA IMP.&EXP.CO.,LTDNO.398 SHI QIAO ROAD,HANGZHOU 310022,CHINA\n",
      "ZHEJIANG HANGCHA IMP.&EXP. CO., LTD NO.398 SHI QIAO ROAD,HANGZHOU 310022,CHINA\n",
      "\n",
      "##########################################\n",
      "ZHEJIANG LAMDA BRAKE PADS CO.,LTD.NO.76 LUOSHAN ROAD,XIALIN INDUSTRIAL DISTRICT, RUIAN CITY,ZHEJIANG PROVINCE,CHINA\n",
      "\n",
      "##########################################\n",
      "ZHENJIANG HI-WAY IMP&EXP CO.,LTDNO.19 JIEFANG ROAD ZHENJIANG JIANGSU,CHINA\n",
      "\n",
      "##########################################\n",
      "ZHONGSHAN NATIVE PRODUCE IMPORT&EXPORT CO LTD  NO. 8 OF 2ND BLDG HENGXIN STREET EAST DISTRICT  ZHONGSHAN CITY GUANGDONG CHINA\n",
      "ZHONGSHAN SHENGQIU IMPORT AND EXPORT CO.,LTD GANGDONG INDUSTRIAL DISTRICT, GUZHEN, ZHONGSHAN, GUANGDONG ,CHINA.\n",
      "\n",
      "====================================================================================\n",
      "\n"
     ]
    }
   ],
   "source": [
    "show_clusters(c_euclid_prep.labels, docs)"
   ]
  },
  {
   "cell_type": "code",
   "execution_count": 21,
   "metadata": {},
   "outputs": [
    {
     "name": "stdout",
     "output_type": "stream",
     "text": [
      "\n",
      "##########################################\n",
      "ZHANGJIAGANG LOOP IMP.AND EXP CORP15E FUGANG BLDG.,RENMIN ROAD ZHANGJIAGANG CITY,JIANGSU PROVINCE,CN\n",
      "ZHANGJIAGANG LOOP IMP.AND EXP CORP15E FUGANG BLDG., RENMIN ROAD ZHANGJIAGANG CITY,JIANGSU PROVINCE,CN\n",
      "\n",
      "##########################################\n",
      "ZHEJIANG AOTAI MACHINE MANUFACTURING CO.,LTD THE 10TH ROAD ,BINHAI THIRD AVNUE,BINHAI INDUSTRY AREA,WENZHOU,325025,CHINA CONTACT:PIER WANG TEL:+86-577-86830918 FAX:+86 577-868\n",
      "\n",
      "##########################################\n",
      "ZHEJIANG BADA HARDWARE CO.,LTD ADD:NO.20,QILI INDUSTRIAL ZONE, JINYUNCITY,ZHEJIANG PROVINCE,CHINA TEL:0086-578-3124789 FAX:0086-578-3124178+\n",
      "ZHEJIANG BADA HARDWARE CO.,LTD NO.20,QILI INDUSTRIAL ZONE,JINYUN CITY,ZHEJIANG,CHINA 3214000 TEL:0086-578-3124789 FAX:0086-578-3124178\n",
      "\n",
      "##########################################\n",
      "ZHEJIANG CONCORD SHEET STEEL. SCIENCE AND TECHNOLOGY CO.,LTD. HONG SHAN ROAD,XIAO SHAN DISTRICT, HANG ZHOU CITY,ZHEJIANG,CHINA TEL:571-86-571-82699888 FAX:86-571-82622802 O/B:\n",
      "\n",
      "##########################################\n",
      "ZHEJIANG JONWAYMACHINERY&ELECTRICMANUFACTURE CO LTD.DATANG INDUSTRIALZONE JIANTIAO TOWN SANMEN COUNTYTAIZHOU CITY\n",
      "ZHEJIANG JONWAYMACHINERY&ELECTRICMANUFACTURE CO LTD.DATANG INDUSTRIALZONE JIANTIAO TOWN SANMEN COUNTYTAIZHOU CITY TEL:86-576-83431988\n",
      "\n",
      "##########################################\n",
      "ZHEJIANG PROVINCIAL LIGHT&TEXTILEINDUSTRY GROUP IMP.&EXP.CO.,LTD.15/F,BLDG 8,UNITED PLAZA,NO.58 QIANJIANG ROAD,HANGZHOU,P.R.CHINA\n",
      "ZHEJIANG PROVINCIAL LIGHT&TEXTILEINDUSTRY GROUP IMP.&EXP.CO.,LTD.15/F,BLDG 8,UNITED PLAZA,NO.58 QIANJIANG ROAD,HANGZHOU,P.R.CHINA\n",
      "\n",
      "##########################################\n",
      "ZHEJIANG TONGDE IMPORT AND EXPORTCO.,LTD. ROOM 1207-1208,JINMAO BUILDING NO. 699 CHOUZHOU NORTH ROAD ,ZHEJIANG CHINA\n",
      "ZHEJIANG TONGDE IMPORT AND EXPORT CO.,LTD. ROOM 1207-1208,JINMAO BUILDING NO.699 CHOUZHOU NORTH ROAD,ZHEJIANG CHINA\n",
      "\n",
      "##########################################\n",
      "ZHONGSHAN CITY GUZHEN HAOLANG LIGHTING FACTORY THE FORTH FLOOR,BUILDING C,SHENGQIU INDUSTRIAL DISTRICT,DONGXING EAST RD,CAOSAN,GUZHEN TOWN,ZHONGSHAN CITY,GUANGDONG,CHINA\n",
      "\n",
      "##########################################\n",
      "ZHONGSHAN FOODSTUFFS&AQUATIC IMP.&EXP. GROUP CO., LTD ADD:113 HUAYUAN STREET, ZHONGSHAN 3RD ROAD, ZHONGSHAN, GUANGDONG, CHINA TEL:86-760-88312361 FAX:86-760-88329517\n",
      "ZHONGSHAN FOODSTUFFS AND AQUATIC  IMP.AND EXP.GROUP CO.,LTD OF GUANGDONG 113 HUAYUAN ST.,ZHONGSHAN 3 ROAD,ZHONGSHAN, GUANGDONG,CHINA TEL:+86-760-88314404    FAX:+86-760-883291\n",
      "\n",
      "##########################################\n",
      "ZHUJI RUHAI KNITTING CO., LTD ADD:NO.8,RUHAI ROAD,XINZHOU,SANHE VILLAGE, ANHUA TOWN,ZHUJI CITY,ZHEJIANG,CHINA TEL:86-57587548857-\n",
      "ZHUJI RUHAI KNITTING CO., LTD ADD:NO.8,RUHAI ROAD,XINZHOU,SANHE  VILLAGE, ANHUA TOWN,ZHUJI  CITY,ZHEJIANG, CHINA TEL:86-57587548857\n",
      "\n",
      "====================================================================================\n",
      "\n"
     ]
    }
   ],
   "source": [
    "show_clusters(c_manhat_prep.labels, docs)"
   ]
  },
  {
   "cell_type": "code",
   "execution_count": 22,
   "metadata": {},
   "outputs": [
    {
     "name": "stdout",
     "output_type": "stream",
     "text": [
      "##########################################\n",
      "ZHEJIANG ANJI RONGYI FURNITURE CO.,LTD TANGPU INDUSTRY ZONE, ANJI COUNTY ZHEJIANG PROVINCE CHINA\n",
      "ZHEJIANG AOTE TOOLS CO.,LTD PHOENIXINDUSTRIAL ZONE,WUYI COUNTY, ZHEJIANG PROVINCE, P.R.CHINA\n",
      "ZHEJIANG HENGLIN CHAIR INDUSTRY CO.,LTD 3BLOCK SUNLIGHT INDUSTRY  ZONE,ANJI COUNTY,ZHEJIANG PROVINCE, CHINA\n",
      "ZHEJIANG UE FURNITURE CO., LTD. NO.1 YONGYI WEST ROAD,ANJI COUNTY ZHEJIANG PROVINCE,CHINA\n",
      "\n",
      "##########################################\n",
      "ZHEJIANG CHAOYUE TRADING COMPANY LTD. NO.69 SOUTH WANGJIANG ROAD, DONGYANG CITY ZHEJIANG CHINA\n",
      "\n",
      "##########################################\n",
      "ZHEJIANG GUANGYING MACHINERY CO., LTD. 321403,NO.12, XINZHENG ROAD ,JINYUN INDUSTRIAL ZONE, ZHEJIANG, CHINA\n",
      "\n",
      "##########################################\n",
      "ZHEJIANG GUXIANDAO INDUSTRIAL FIBRECO., LTD., YUEDONG ROAD PAOJIANG INDUSTRIAL DISTRICT SHAOXING 312000CHINA\n",
      "\n",
      "##########################################\n",
      "ZHEJIANG HUATAI INTL FORWARDING COVDR165 ZHONGHE ZHONG ROAD310000 HANGZHOU CHINA\n",
      "ZHEJIANG KNITEX TRADING CO.LTD. NO.165 ZHONGHE ZHONG ROAD, HANGZHOU,CHINA\n",
      "ZHEJIANG XINHONGZHOU TRADING CO.,LTD.NO.165 ZHONGHE ZHONG ROAD HANGZHOU CHINA\n",
      "\n",
      "##########################################\n",
      "ZHEJIANG ORIENT GROUP LIGHT INDUSTRIAL PRODUCTS I/E CO.,LTD 199 QINGCHUN ROAD, HANGZHOU,P.R.CHINA 310007\n",
      "ZHEJIANG ORIENT GROUP LIGHT  INDUSTRIAL PRODUCTS I/E CO.,LTD 199 QINGCHUN  ROAD,HANGZHOU,P.R.CHINA 310007\n",
      "\n",
      "##########################################\n",
      "ZHEJIANG SHENG PUJIANG WUSHI LOCKSCO.,LTD, YUEXI HUANGZHAI TOWN, PUJIANG CITY,ZHEJIANG PROVINCE, CHINA\n",
      "\n",
      "##########################################\n",
      "ZHEJIANG TONGDE IMPORT AND EXPORTCO.,LTD. ROOM 1207-1208,JINMAO BUILDING NO. 699 CHOUZHOU NORTH ROAD ,ZHEJIANG CHINA\n",
      "ZHEJIANG TONGDE IMPORT AND EXPORT CO.,LTD. ROOM 1207-1208,JINMAO BUILDING NO.699 CHOUZHOU NORTH ROAD,ZHEJIANG CHINA\n",
      "\n",
      "##########################################\n",
      "ZHEJIANG XINYA PUMP INDUSTRY CO., LTD. DAXI PUMP INDUSTIRAL ZONE WENLING CITY ZHEJIANG PROVINCE,CHINA TEL:0086-576-86329299 FAX:0086-576-86329488+\n",
      "\n",
      "##########################################\n",
      "ZHUJI RUHAI KNITTING CO., LTD ADD:NO.8,RUHAI ROAD,XINZHOU,SANHE VILLAGE, ANHUA TOWN,ZHUJI CITY,ZHEJIANG,CHINA TEL:86-57587548857-\n",
      "ZHUJI RUHAI KNITTING CO., LTD ADD:NO.8,RUHAI ROAD,XINZHOU,SANHE  VILLAGE, ANHUA TOWN,ZHUJI  CITY,ZHEJIANG, CHINA TEL:86-57587548857\n",
      "\n",
      "====================================================================================\n",
      "\n"
     ]
    }
   ],
   "source": [
    "show_clusters(c_hammin_prep.labels, docs)"
   ]
  },
  {
   "attachments": {},
   "cell_type": "markdown",
   "metadata": {},
   "source": [
    "5. Porównaj jakość wyników sposobami zaimplementowanymi w pkt. 2."
   ]
  },
  {
   "cell_type": "code",
   "execution_count": 24,
   "metadata": {},
   "outputs": [],
   "source": [
    "lines = open(\"clusters.txt\", \"r\").read().splitlines()\n",
    "lines = list(filter(lambda text: text != \"\", lines))\n",
    "\n",
    "model_docs, model_labels, label = [], [], 0\n",
    "for line in lines:\n",
    "    if line != \"#\" * 10:\n",
    "        model_docs.append(line)\n",
    "        model_labels.append(label)\n",
    "    else:\n",
    "        label += 1\n",
    "\n",
    "model = CountVectorizer().fit_transform(model_docs)"
   ]
  },
  {
   "cell_type": "code",
   "execution_count": 27,
   "metadata": {},
   "outputs": [
    {
     "name": "stdout",
     "output_type": "stream",
     "text": [
      "Davies--Bouldin indexes\n",
      "__________________________________________\n",
      "\n",
      "Model clusterization                 1.112534158155742\n",
      "\n",
      "WITHOUT PREPROCESSING\n",
      "k-medoids clusterization (euclidean) 1.4929700218844801\n",
      "k-medoids clusterization (manhattan) 1.3532903921466326\n",
      "k-medoids clusterization (hamming)   1.5570908383441069\n",
      "\n",
      "WITH PREPROCESSING\n",
      "k-medoids clusterization (euclidean) 1.4698938464183584\n",
      "k-medoids clusterization (manhattan) 1.3186055425104957\n",
      "k-medoids clusterization (hamming)   1.3535581942929484\n"
     ]
    }
   ],
   "source": [
    "print(\"Davies--Bouldin indexes\\n\" + \"_\" * 42 + \"\\n\")\n",
    "print(\n",
    "    \"Model clusterization                \", DB_idx(model.toarray(), labels=model_labels)\n",
    ")\n",
    "\n",
    "print(\"\\nWITHOUT PREPROCESSING\")\n",
    "print(\n",
    "    \"k-medoids clusterization (euclidean)\",\n",
    "    DB_idx(freq_vecs.toarray(), c_euclid.labels),\n",
    ")\n",
    "print(\n",
    "    \"k-medoids clusterization (manhattan)\",\n",
    "    DB_idx(freq_vecs.toarray(), c_manhat.labels),\n",
    ")\n",
    "print(\n",
    "    \"k-medoids clusterization (hamming)  \",\n",
    "    DB_idx(freq_vecs.toarray(), c_hammin.labels),\n",
    ")\n",
    "\n",
    "print(\"\\nWITH PREPROCESSING\")\n",
    "print(\n",
    "    \"k-medoids clusterization (euclidean)\",\n",
    "    DB_idx(freq_vecs_prep.toarray(), c_euclid_prep.labels),\n",
    ")\n",
    "print(\n",
    "    \"k-medoids clusterization (manhattan)\",\n",
    "    DB_idx(freq_vecs_prep.toarray(), c_manhat_prep.labels),\n",
    ")\n",
    "print(\n",
    "    \"k-medoids clusterization (hamming)  \",\n",
    "    DB_idx(freq_vecs_prep.toarray(), c_hammin_prep.labels),\n",
    ")\n"
   ]
  },
  {
   "attachments": {},
   "cell_type": "markdown",
   "metadata": {},
   "source": [
    "Na podstawie uzyskanych wyników możemy stwierdzić, iż spośród testowanych metryk\n",
    "najlepszą klasteryzację (tj. o najniższym indeksie DB) uzyskano dla metryki\n",
    "taksówkowej. Zastosowanie stoplisty najczęstszych słów polepsza klasteryzację."
   ]
  },
  {
   "attachments": {},
   "cell_type": "markdown",
   "metadata": {},
   "source": [
    "6. Czy masz jakiś pomysł na poprawę jakości klasteryzacji w tym zadaniu?\n",
    "\n",
    "Jakość klasteryzacji w przypadku użytego algorytmu zależy od parametru $k$\n",
    "określającego liczbę klastrów, która musi zostać podana a priori. W powyższym\n",
    "przykładzie liczbę klastrów można oszacować mając modelową klasteryzację, ale w\n",
    "ogólności jej nie znamy. Aby poprawić jakość klasteryzacji, można zatem znaleźć\n",
    "liczbę k, która minimalizuje pewną funkcję (np. indeks DB) określającą jakość.\n",
    "Ze względu na fakt, iż ewaluacja takiej funkcji jest kosztowna (za każdym razem\n",
    "wykonujemy klasteryzację dla innego k) korzystne mogłoby być wykorzystanie\n",
    "teorii procesów Gaussowskich do tego celu. Innym parametrem, który podajemy a\n",
    "priori, jest minimalna liczba wystąpień danego słowa, aby zaklasyfikować je do\n",
    "stoplisty. Analogicznie można więc minimalizować indeks DB ze względu na ten\n",
    "parametr, aby uzyskać lepszą klasteryzację."
   ]
  },
  {
   "attachments": {},
   "cell_type": "markdown",
   "metadata": {},
   "source": []
  }
 ],
 "metadata": {
  "kernelspec": {
   "display_name": "Python 3",
   "language": "python",
   "name": "python3"
  },
  "language_info": {
   "codemirror_mode": {
    "name": "ipython",
    "version": 3
   },
   "file_extension": ".py",
   "mimetype": "text/x-python",
   "name": "python",
   "nbconvert_exporter": "python",
   "pygments_lexer": "ipython3",
   "version": "3.11.3"
  },
  "orig_nbformat": 4
 },
 "nbformat": 4,
 "nbformat_minor": 2
}
